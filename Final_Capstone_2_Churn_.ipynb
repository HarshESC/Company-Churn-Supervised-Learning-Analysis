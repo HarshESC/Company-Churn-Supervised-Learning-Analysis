{
  "nbformat": 4,
  "nbformat_minor": 0,
  "metadata": {
    "accelerator": "GPU",
    "colab": {
      "name": "Final Capstone 2:  Churn .ipynb",
      "provenance": [],
      "collapsed_sections": [],
      "authorship_tag": "ABX9TyMkmeneVjaOe8ws/QHgGEGa",
      "include_colab_link": true
    },
    "kernelspec": {
      "display_name": "Python 3",
      "name": "python3"
    },
    "language_info": {
      "name": "python"
    }
  },
  "cells": [
    {
      "cell_type": "markdown",
      "metadata": {
        "id": "view-in-github",
        "colab_type": "text"
      },
      "source": [
        "<a href=\"https://colab.research.google.com/github/HarshESC/Company-Churn-Supervised-Learning-Analysis/blob/main/Final_Capstone_2_Churn_.ipynb\" target=\"_parent\"><img src=\"https://colab.research.google.com/assets/colab-badge.svg\" alt=\"Open In Colab\"/></a>"
      ]
    },
    {
      "cell_type": "markdown",
      "metadata": {
        "id": "RzY3YdGlaned"
      },
      "source": [
        "### **1. Introduction:**\n",
        "A telecomm company would like to predict their churn rate in order to make decisions for the future growth of their company.  \n",
        "\n",
        "Telecom companies can suffer from voluntary churn. They spend thousands of dollars just to acquire a new customer.  But, when that customer leaves, the company not only loses the future revenue from that customer, but also the resources spent to acquire that customer.  As a result, it causes a loss in profits.\n",
        "\n",
        "The churn rate helps determine whether customers tend to stay with the company.  \n",
        "\n",
        "For example if a company has 25% churn rate then the average customer lifetime is 4 years; similarly a company with a churn rate of 50%, has an average customer lifetime of 2 years. It is estimated that 75 percent of the 17 to 20 million subscribers signing up with a new wireless carrier every year are coming from another wireless provider, which means they are churners. \n",
        "\n",
        "In this analysis, we will be exploring the rate at which customers churn using a series of Machine Learning Algorithms.  I will be using two techniques, Select K Best and Principal Component Analysis (PCA) in order to pick the best features that help predict the churn rate.  \n"
      ]
    },
    {
      "cell_type": "markdown",
      "metadata": {
        "id": "IktuZV7Qazgf"
      },
      "source": [
        "### **Question:**\n",
        "### Which machine learning algorithm can most accuracy can help the Telecommunication companies predict a churn rate?"
      ]
    },
    {
      "cell_type": "markdown",
      "metadata": {
        "id": "vx0b0HUO9Z-z"
      },
      "source": [
        "### **2. Hypothesis:**\n",
        "\n",
        "Ho: There is no significance between the machine learning algorithms with the best features picked for churn rate.\n",
        "\n",
        "Ha:  There is significance between the machine learning algorithms with the best features picked for churn rate.  Specifically, I think the K Nearest Neighbor Algothim will provide the most accurate result."
      ]
    },
    {
      "cell_type": "markdown",
      "metadata": {
        "id": "kqQ2ev4a-H6N"
      },
      "source": [
        "### **3. Data:**\n",
        "This dataset can be found on [Kaggle](https://www.kaggle.com/becksddf/churn-in-telecoms-dataset/discussion/235073), provided by the user david_becks.  \n",
        "\n",
        "This public dataset is provided by the CrowdAnalytix community as part of their churn prediction competition. The real name of the telecom company is anonymized. It contains 20 predictor variables mostly about customer usage patterns. There are 3333 records in this dataset, out of which 483 customers are churners and the remaining 2850 are non-churners. \n",
        "\n",
        "Churn Rate in this dataset is marked by 0 or 1, where 0 means the Customer has not churned or left while 1 measn the customer has churned/left for another service.  The rest of the variables can be found in the Data Exploration section of the report.  \n"
      ]
    },
    {
      "cell_type": "markdown",
      "metadata": {
        "id": "SebQXmW__a_H"
      },
      "source": [
        "## 4. Methods\n",
        "\n",
        "For this analysis I determined that my dataset is a Classification problem due to our target variable \"churn\" being a discrete number and having only two results.  \n",
        "\n",
        "Next, I explored the data, found that there were no nulls or outliers interfering.  Then I used both Select K Best and Principal Component Analysis (PCA) to pick out the best features.  Those best features would be used to split up my dataset. \n",
        "\n",
        "The values from those features would be incorporated into the 5 Machine Learning Algorithms chosen (Decision Tree, Random Forest, K Nearest Neighbor, Support Vector Machine, and Gradient Boosting).     \n",
        "\n",
        "I feel these three algorithms will offer a variety of models and provide us with the most efficient results.  \n",
        "\n",
        "\n",
        " \n",
        "Before plugging in the features into each Machine Learning algorithm, a Grid Search is performed in order to find the optimal hyperparameters of a model, which results in the most 'accurate' predictions \n",
        "\n",
        "These optimals are plugged into each Machine Learning Algorithm, and then we will generate a Cross Validation Score, a Confusion Matrix, and a Classification report.  Each will dive into the accuracy of our various models.\n",
        " \n",
        "\n",
        "\n"
      ]
    },
    {
      "cell_type": "markdown",
      "metadata": {
        "id": "0wQ1Rd9KBzYw"
      },
      "source": [
        "### Data Exploration"
      ]
    },
    {
      "cell_type": "code",
      "metadata": {
        "colab": {
          "base_uri": "https://localhost:8080/"
        },
        "id": "MV8Felgx1lE6",
        "outputId": "1ee714ec-7551-4d3a-97d4-f8f3cf1f54c6"
      },
      "source": [
        "import numpy as np\n",
        "import pandas as pd\n",
        "from sklearn.datasets import load_boston\n",
        "from sklearn.model_selection import train_test_split, GridSearchCV, cross_val_score\n",
        "from sklearn.tree import DecisionTreeClassifier\n",
        "from sklearn.feature_selection import SelectKBest, f_regression, chi2\n",
        "import matplotlib.pyplot as plt\n",
        "import seaborn as sns\n",
        "from sklearn.metrics import confusion_matrix\n",
        "from sklearn.metrics import accuracy_score\n",
        "from sklearn.metrics import precision_score, recall_score\n",
        "from sklearn.metrics import f1_score\n",
        "from sklearn.metrics import classification_report\n",
        "from sklearn.ensemble import RandomForestClassifier\n",
        "from sklearn.neighbors import KNeighborsClassifier\n",
        "from sklearn import neighbors\n",
        "from sklearn import svm\n",
        "from sklearn.svm import SVC\n",
        "from sklearn import tree\n",
        "from sklearn.ensemble import GradientBoostingClassifier\n",
        "\n",
        "\n",
        "from google.colab import drive \n",
        "drive.mount('/content/gdrive')\n",
        "import os\n",
        "os.environ['KAGGLE_CONFIG_DIR'] = \"/content/gdrive/\"\n",
        "%cd \"/content/gdrive/My Drive/Capstone 2\""
      ],
      "execution_count": null,
      "outputs": [
        {
          "output_type": "stream",
          "name": "stdout",
          "text": [
            "Mounted at /content/gdrive\n",
            "/content/gdrive/My Drive/Capstone 2\n"
          ]
        }
      ]
    },
    {
      "cell_type": "code",
      "metadata": {
        "id": "FWmta86c2H1w"
      },
      "source": [
        "df = pd.read_csv('churn.csv')\n",
        "df = df.drop(['area code', 'phone number', 'state', 'international plan', 'voice mail plan'],axis=1)\n",
        "df['churn'] = df['churn'].astype(int)\n",
        "\n"
      ],
      "execution_count": null,
      "outputs": []
    },
    {
      "cell_type": "markdown",
      "metadata": {
        "id": "pJpjwDZVcBZS"
      },
      "source": [
        "We will drop the following columns from the dataset as they do not help best predict whether a customer will churn:  \n",
        "\n",
        "**area code, phone number, state, international plan & voice mail plan**"
      ]
    },
    {
      "cell_type": "code",
      "metadata": {
        "colab": {
          "base_uri": "https://localhost:8080/"
        },
        "id": "y3JrZl4XbnEJ",
        "outputId": "15ea4fad-7802-4747-edc3-9e0d3ec707f1"
      },
      "source": [
        "df.churn.value_counts()\n"
      ],
      "execution_count": null,
      "outputs": [
        {
          "output_type": "execute_result",
          "data": {
            "text/plain": [
              "0    2850\n",
              "1     483\n",
              "Name: churn, dtype: int64"
            ]
          },
          "metadata": {},
          "execution_count": 3
        }
      ]
    },
    {
      "cell_type": "code",
      "metadata": {
        "colab": {
          "base_uri": "https://localhost:8080/"
        },
        "id": "jBACAr1Obs92",
        "outputId": "14142fe4-e9c8-4025-d184-85d0340d8bd1"
      },
      "source": [
        "df.info()\n"
      ],
      "execution_count": null,
      "outputs": [
        {
          "output_type": "stream",
          "name": "stdout",
          "text": [
            "<class 'pandas.core.frame.DataFrame'>\n",
            "RangeIndex: 3333 entries, 0 to 3332\n",
            "Data columns (total 16 columns):\n",
            " #   Column                  Non-Null Count  Dtype  \n",
            "---  ------                  --------------  -----  \n",
            " 0   account length          3333 non-null   int64  \n",
            " 1   number vmail messages   3333 non-null   int64  \n",
            " 2   total day minutes       3333 non-null   float64\n",
            " 3   total day calls         3333 non-null   int64  \n",
            " 4   total day charge        3333 non-null   float64\n",
            " 5   total eve minutes       3333 non-null   float64\n",
            " 6   total eve calls         3333 non-null   int64  \n",
            " 7   total eve charge        3333 non-null   float64\n",
            " 8   total night minutes     3333 non-null   float64\n",
            " 9   total night calls       3333 non-null   int64  \n",
            " 10  total night charge      3333 non-null   float64\n",
            " 11  total intl minutes      3333 non-null   float64\n",
            " 12  total intl calls        3333 non-null   int64  \n",
            " 13  total intl charge       3333 non-null   float64\n",
            " 14  customer service calls  3333 non-null   int64  \n",
            " 15  churn                   3333 non-null   int64  \n",
            "dtypes: float64(8), int64(8)\n",
            "memory usage: 416.8 KB\n"
          ]
        }
      ]
    },
    {
      "cell_type": "code",
      "metadata": {
        "colab": {
          "base_uri": "https://localhost:8080/"
        },
        "id": "pApBzPKsbzHv",
        "outputId": "bfee535d-373a-4004-e5ce-5b2e7593b3e0"
      },
      "source": [
        "df.nunique()"
      ],
      "execution_count": null,
      "outputs": [
        {
          "output_type": "execute_result",
          "data": {
            "text/plain": [
              "account length             212\n",
              "number vmail messages       46\n",
              "total day minutes         1667\n",
              "total day calls            119\n",
              "total day charge          1667\n",
              "total eve minutes         1611\n",
              "total eve calls            123\n",
              "total eve charge          1440\n",
              "total night minutes       1591\n",
              "total night calls          120\n",
              "total night charge         933\n",
              "total intl minutes         162\n",
              "total intl calls            21\n",
              "total intl charge          162\n",
              "customer service calls      10\n",
              "churn                        2\n",
              "dtype: int64"
            ]
          },
          "metadata": {},
          "execution_count": 5
        }
      ]
    },
    {
      "cell_type": "code",
      "metadata": {
        "colab": {
          "base_uri": "https://localhost:8080/"
        },
        "id": "_rha54ybdKgj",
        "outputId": "9b4a3326-f7c2-4d96-f14e-d04c3eb8612b"
      },
      "source": [
        "# Check for nulls\n",
        "df.isnull().sum()*100/df.isnull().count()\n"
      ],
      "execution_count": null,
      "outputs": [
        {
          "output_type": "execute_result",
          "data": {
            "text/plain": [
              "account length            0.0\n",
              "number vmail messages     0.0\n",
              "total day minutes         0.0\n",
              "total day calls           0.0\n",
              "total day charge          0.0\n",
              "total eve minutes         0.0\n",
              "total eve calls           0.0\n",
              "total eve charge          0.0\n",
              "total night minutes       0.0\n",
              "total night calls         0.0\n",
              "total night charge        0.0\n",
              "total intl minutes        0.0\n",
              "total intl calls          0.0\n",
              "total intl charge         0.0\n",
              "customer service calls    0.0\n",
              "churn                     0.0\n",
              "dtype: float64"
            ]
          },
          "metadata": {},
          "execution_count": 6
        }
      ]
    },
    {
      "cell_type": "code",
      "metadata": {
        "colab": {
          "base_uri": "https://localhost:8080/",
          "height": 436
        },
        "id": "XP2dF5I_5fU_",
        "outputId": "5618a3c7-780a-4286-cab3-37c2f59f0abf"
      },
      "source": [
        "df.head(100)\n"
      ],
      "execution_count": null,
      "outputs": [
        {
          "output_type": "execute_result",
          "data": {
            "text/html": [
              "<div>\n",
              "<style scoped>\n",
              "    .dataframe tbody tr th:only-of-type {\n",
              "        vertical-align: middle;\n",
              "    }\n",
              "\n",
              "    .dataframe tbody tr th {\n",
              "        vertical-align: top;\n",
              "    }\n",
              "\n",
              "    .dataframe thead th {\n",
              "        text-align: right;\n",
              "    }\n",
              "</style>\n",
              "<table border=\"1\" class=\"dataframe\">\n",
              "  <thead>\n",
              "    <tr style=\"text-align: right;\">\n",
              "      <th></th>\n",
              "      <th>account length</th>\n",
              "      <th>number vmail messages</th>\n",
              "      <th>total day minutes</th>\n",
              "      <th>total day calls</th>\n",
              "      <th>total day charge</th>\n",
              "      <th>total eve minutes</th>\n",
              "      <th>total eve calls</th>\n",
              "      <th>total eve charge</th>\n",
              "      <th>total night minutes</th>\n",
              "      <th>total night calls</th>\n",
              "      <th>total night charge</th>\n",
              "      <th>total intl minutes</th>\n",
              "      <th>total intl calls</th>\n",
              "      <th>total intl charge</th>\n",
              "      <th>customer service calls</th>\n",
              "      <th>churn</th>\n",
              "    </tr>\n",
              "  </thead>\n",
              "  <tbody>\n",
              "    <tr>\n",
              "      <th>0</th>\n",
              "      <td>128</td>\n",
              "      <td>25</td>\n",
              "      <td>265.1</td>\n",
              "      <td>110</td>\n",
              "      <td>45.07</td>\n",
              "      <td>197.4</td>\n",
              "      <td>99</td>\n",
              "      <td>16.78</td>\n",
              "      <td>244.7</td>\n",
              "      <td>91</td>\n",
              "      <td>11.01</td>\n",
              "      <td>10.0</td>\n",
              "      <td>3</td>\n",
              "      <td>2.70</td>\n",
              "      <td>1</td>\n",
              "      <td>0</td>\n",
              "    </tr>\n",
              "    <tr>\n",
              "      <th>1</th>\n",
              "      <td>107</td>\n",
              "      <td>26</td>\n",
              "      <td>161.6</td>\n",
              "      <td>123</td>\n",
              "      <td>27.47</td>\n",
              "      <td>195.5</td>\n",
              "      <td>103</td>\n",
              "      <td>16.62</td>\n",
              "      <td>254.4</td>\n",
              "      <td>103</td>\n",
              "      <td>11.45</td>\n",
              "      <td>13.7</td>\n",
              "      <td>3</td>\n",
              "      <td>3.70</td>\n",
              "      <td>1</td>\n",
              "      <td>0</td>\n",
              "    </tr>\n",
              "    <tr>\n",
              "      <th>2</th>\n",
              "      <td>137</td>\n",
              "      <td>0</td>\n",
              "      <td>243.4</td>\n",
              "      <td>114</td>\n",
              "      <td>41.38</td>\n",
              "      <td>121.2</td>\n",
              "      <td>110</td>\n",
              "      <td>10.30</td>\n",
              "      <td>162.6</td>\n",
              "      <td>104</td>\n",
              "      <td>7.32</td>\n",
              "      <td>12.2</td>\n",
              "      <td>5</td>\n",
              "      <td>3.29</td>\n",
              "      <td>0</td>\n",
              "      <td>0</td>\n",
              "    </tr>\n",
              "    <tr>\n",
              "      <th>3</th>\n",
              "      <td>84</td>\n",
              "      <td>0</td>\n",
              "      <td>299.4</td>\n",
              "      <td>71</td>\n",
              "      <td>50.90</td>\n",
              "      <td>61.9</td>\n",
              "      <td>88</td>\n",
              "      <td>5.26</td>\n",
              "      <td>196.9</td>\n",
              "      <td>89</td>\n",
              "      <td>8.86</td>\n",
              "      <td>6.6</td>\n",
              "      <td>7</td>\n",
              "      <td>1.78</td>\n",
              "      <td>2</td>\n",
              "      <td>0</td>\n",
              "    </tr>\n",
              "    <tr>\n",
              "      <th>4</th>\n",
              "      <td>75</td>\n",
              "      <td>0</td>\n",
              "      <td>166.7</td>\n",
              "      <td>113</td>\n",
              "      <td>28.34</td>\n",
              "      <td>148.3</td>\n",
              "      <td>122</td>\n",
              "      <td>12.61</td>\n",
              "      <td>186.9</td>\n",
              "      <td>121</td>\n",
              "      <td>8.41</td>\n",
              "      <td>10.1</td>\n",
              "      <td>3</td>\n",
              "      <td>2.73</td>\n",
              "      <td>3</td>\n",
              "      <td>0</td>\n",
              "    </tr>\n",
              "    <tr>\n",
              "      <th>...</th>\n",
              "      <td>...</td>\n",
              "      <td>...</td>\n",
              "      <td>...</td>\n",
              "      <td>...</td>\n",
              "      <td>...</td>\n",
              "      <td>...</td>\n",
              "      <td>...</td>\n",
              "      <td>...</td>\n",
              "      <td>...</td>\n",
              "      <td>...</td>\n",
              "      <td>...</td>\n",
              "      <td>...</td>\n",
              "      <td>...</td>\n",
              "      <td>...</td>\n",
              "      <td>...</td>\n",
              "      <td>...</td>\n",
              "    </tr>\n",
              "    <tr>\n",
              "      <th>95</th>\n",
              "      <td>104</td>\n",
              "      <td>0</td>\n",
              "      <td>278.4</td>\n",
              "      <td>106</td>\n",
              "      <td>47.33</td>\n",
              "      <td>81.0</td>\n",
              "      <td>113</td>\n",
              "      <td>6.89</td>\n",
              "      <td>163.2</td>\n",
              "      <td>137</td>\n",
              "      <td>7.34</td>\n",
              "      <td>9.8</td>\n",
              "      <td>5</td>\n",
              "      <td>2.65</td>\n",
              "      <td>1</td>\n",
              "      <td>0</td>\n",
              "    </tr>\n",
              "    <tr>\n",
              "      <th>96</th>\n",
              "      <td>73</td>\n",
              "      <td>0</td>\n",
              "      <td>160.1</td>\n",
              "      <td>110</td>\n",
              "      <td>27.22</td>\n",
              "      <td>213.3</td>\n",
              "      <td>72</td>\n",
              "      <td>18.13</td>\n",
              "      <td>174.1</td>\n",
              "      <td>72</td>\n",
              "      <td>7.83</td>\n",
              "      <td>13.0</td>\n",
              "      <td>4</td>\n",
              "      <td>3.51</td>\n",
              "      <td>0</td>\n",
              "      <td>0</td>\n",
              "    </tr>\n",
              "    <tr>\n",
              "      <th>97</th>\n",
              "      <td>99</td>\n",
              "      <td>0</td>\n",
              "      <td>198.2</td>\n",
              "      <td>87</td>\n",
              "      <td>33.69</td>\n",
              "      <td>207.3</td>\n",
              "      <td>76</td>\n",
              "      <td>17.62</td>\n",
              "      <td>190.9</td>\n",
              "      <td>113</td>\n",
              "      <td>8.59</td>\n",
              "      <td>8.7</td>\n",
              "      <td>3</td>\n",
              "      <td>2.35</td>\n",
              "      <td>4</td>\n",
              "      <td>0</td>\n",
              "    </tr>\n",
              "    <tr>\n",
              "      <th>98</th>\n",
              "      <td>120</td>\n",
              "      <td>0</td>\n",
              "      <td>212.1</td>\n",
              "      <td>131</td>\n",
              "      <td>36.06</td>\n",
              "      <td>209.4</td>\n",
              "      <td>104</td>\n",
              "      <td>17.80</td>\n",
              "      <td>167.2</td>\n",
              "      <td>96</td>\n",
              "      <td>7.52</td>\n",
              "      <td>5.3</td>\n",
              "      <td>5</td>\n",
              "      <td>1.43</td>\n",
              "      <td>1</td>\n",
              "      <td>1</td>\n",
              "    </tr>\n",
              "    <tr>\n",
              "      <th>99</th>\n",
              "      <td>77</td>\n",
              "      <td>0</td>\n",
              "      <td>251.8</td>\n",
              "      <td>72</td>\n",
              "      <td>42.81</td>\n",
              "      <td>205.7</td>\n",
              "      <td>126</td>\n",
              "      <td>17.48</td>\n",
              "      <td>275.2</td>\n",
              "      <td>109</td>\n",
              "      <td>12.38</td>\n",
              "      <td>9.8</td>\n",
              "      <td>7</td>\n",
              "      <td>2.65</td>\n",
              "      <td>2</td>\n",
              "      <td>1</td>\n",
              "    </tr>\n",
              "  </tbody>\n",
              "</table>\n",
              "<p>100 rows × 16 columns</p>\n",
              "</div>"
            ],
            "text/plain": [
              "    account length  number vmail messages  ...  customer service calls  churn\n",
              "0              128                     25  ...                       1      0\n",
              "1              107                     26  ...                       1      0\n",
              "2              137                      0  ...                       0      0\n",
              "3               84                      0  ...                       2      0\n",
              "4               75                      0  ...                       3      0\n",
              "..             ...                    ...  ...                     ...    ...\n",
              "95             104                      0  ...                       1      0\n",
              "96              73                      0  ...                       0      0\n",
              "97              99                      0  ...                       4      0\n",
              "98             120                      0  ...                       1      1\n",
              "99              77                      0  ...                       2      1\n",
              "\n",
              "[100 rows x 16 columns]"
            ]
          },
          "metadata": {},
          "execution_count": 7
        }
      ]
    },
    {
      "cell_type": "markdown",
      "metadata": {
        "id": "w8oyUUplCG9A"
      },
      "source": [
        "# Explanation of each column"
      ]
    },
    {
      "cell_type": "markdown",
      "metadata": {
        "id": "Z04ReKKhb6TQ"
      },
      "source": [
        "\n",
        "```\n",
        "account length:  the number of days the account has been held by customer\n",
        "phone number:  the phone number of the customer\n",
        "number vmail message:  the nuber of vmail messages left by the customer\n",
        "total day minutes:  the length of the call for the customer during the daytime\n",
        "total day calls:  the number of calls made during the daytime\n",
        "total day charge:  the rate for each call during the daytime\n",
        "total eve minutes:  the length of the call during the evening\n",
        "total eve call:  the total number of calls made during the evening.\n",
        "total eve charge:  the rate charged for evening calls \n",
        "total night minutes:  the length of the call during the night\n",
        "total night calls:  the total number of calls made during the night\n",
        "total night charge  the rate charged for night calls\n",
        "total intl minutes:  the length of time for international calls\n",
        "total intl calls:  the number of international calls made \n",
        "total intl charge:  the rate of the international calls\n",
        "customer service calls:  total number of customer service calls made\n",
        "churn: if the customer has churned (left) (0 =no; 1 = yes)\n",
        "```\n"
      ]
    },
    {
      "cell_type": "code",
      "metadata": {
        "colab": {
          "base_uri": "https://localhost:8080/",
          "height": 314
        },
        "id": "TGul7ic75e5r",
        "outputId": "2bdade59-5677-477e-c30a-c80f18e052b1"
      },
      "source": [
        "# Descriptive statistics.\n",
        "df.describe()"
      ],
      "execution_count": null,
      "outputs": [
        {
          "output_type": "execute_result",
          "data": {
            "text/html": [
              "<div>\n",
              "<style scoped>\n",
              "    .dataframe tbody tr th:only-of-type {\n",
              "        vertical-align: middle;\n",
              "    }\n",
              "\n",
              "    .dataframe tbody tr th {\n",
              "        vertical-align: top;\n",
              "    }\n",
              "\n",
              "    .dataframe thead th {\n",
              "        text-align: right;\n",
              "    }\n",
              "</style>\n",
              "<table border=\"1\" class=\"dataframe\">\n",
              "  <thead>\n",
              "    <tr style=\"text-align: right;\">\n",
              "      <th></th>\n",
              "      <th>account length</th>\n",
              "      <th>number vmail messages</th>\n",
              "      <th>total day minutes</th>\n",
              "      <th>total day calls</th>\n",
              "      <th>total day charge</th>\n",
              "      <th>total eve minutes</th>\n",
              "      <th>total eve calls</th>\n",
              "      <th>total eve charge</th>\n",
              "      <th>total night minutes</th>\n",
              "      <th>total night calls</th>\n",
              "      <th>total night charge</th>\n",
              "      <th>total intl minutes</th>\n",
              "      <th>total intl calls</th>\n",
              "      <th>total intl charge</th>\n",
              "      <th>customer service calls</th>\n",
              "      <th>churn</th>\n",
              "    </tr>\n",
              "  </thead>\n",
              "  <tbody>\n",
              "    <tr>\n",
              "      <th>count</th>\n",
              "      <td>3333.000000</td>\n",
              "      <td>3333.000000</td>\n",
              "      <td>3333.000000</td>\n",
              "      <td>3333.000000</td>\n",
              "      <td>3333.000000</td>\n",
              "      <td>3333.000000</td>\n",
              "      <td>3333.000000</td>\n",
              "      <td>3333.000000</td>\n",
              "      <td>3333.000000</td>\n",
              "      <td>3333.000000</td>\n",
              "      <td>3333.000000</td>\n",
              "      <td>3333.000000</td>\n",
              "      <td>3333.000000</td>\n",
              "      <td>3333.000000</td>\n",
              "      <td>3333.000000</td>\n",
              "      <td>3333.000000</td>\n",
              "    </tr>\n",
              "    <tr>\n",
              "      <th>mean</th>\n",
              "      <td>101.064806</td>\n",
              "      <td>8.099010</td>\n",
              "      <td>179.775098</td>\n",
              "      <td>100.435644</td>\n",
              "      <td>30.562307</td>\n",
              "      <td>200.980348</td>\n",
              "      <td>100.114311</td>\n",
              "      <td>17.083540</td>\n",
              "      <td>200.872037</td>\n",
              "      <td>100.107711</td>\n",
              "      <td>9.039325</td>\n",
              "      <td>10.237294</td>\n",
              "      <td>4.479448</td>\n",
              "      <td>2.764581</td>\n",
              "      <td>1.562856</td>\n",
              "      <td>0.144914</td>\n",
              "    </tr>\n",
              "    <tr>\n",
              "      <th>std</th>\n",
              "      <td>39.822106</td>\n",
              "      <td>13.688365</td>\n",
              "      <td>54.467389</td>\n",
              "      <td>20.069084</td>\n",
              "      <td>9.259435</td>\n",
              "      <td>50.713844</td>\n",
              "      <td>19.922625</td>\n",
              "      <td>4.310668</td>\n",
              "      <td>50.573847</td>\n",
              "      <td>19.568609</td>\n",
              "      <td>2.275873</td>\n",
              "      <td>2.791840</td>\n",
              "      <td>2.461214</td>\n",
              "      <td>0.753773</td>\n",
              "      <td>1.315491</td>\n",
              "      <td>0.352067</td>\n",
              "    </tr>\n",
              "    <tr>\n",
              "      <th>min</th>\n",
              "      <td>1.000000</td>\n",
              "      <td>0.000000</td>\n",
              "      <td>0.000000</td>\n",
              "      <td>0.000000</td>\n",
              "      <td>0.000000</td>\n",
              "      <td>0.000000</td>\n",
              "      <td>0.000000</td>\n",
              "      <td>0.000000</td>\n",
              "      <td>23.200000</td>\n",
              "      <td>33.000000</td>\n",
              "      <td>1.040000</td>\n",
              "      <td>0.000000</td>\n",
              "      <td>0.000000</td>\n",
              "      <td>0.000000</td>\n",
              "      <td>0.000000</td>\n",
              "      <td>0.000000</td>\n",
              "    </tr>\n",
              "    <tr>\n",
              "      <th>25%</th>\n",
              "      <td>74.000000</td>\n",
              "      <td>0.000000</td>\n",
              "      <td>143.700000</td>\n",
              "      <td>87.000000</td>\n",
              "      <td>24.430000</td>\n",
              "      <td>166.600000</td>\n",
              "      <td>87.000000</td>\n",
              "      <td>14.160000</td>\n",
              "      <td>167.000000</td>\n",
              "      <td>87.000000</td>\n",
              "      <td>7.520000</td>\n",
              "      <td>8.500000</td>\n",
              "      <td>3.000000</td>\n",
              "      <td>2.300000</td>\n",
              "      <td>1.000000</td>\n",
              "      <td>0.000000</td>\n",
              "    </tr>\n",
              "    <tr>\n",
              "      <th>50%</th>\n",
              "      <td>101.000000</td>\n",
              "      <td>0.000000</td>\n",
              "      <td>179.400000</td>\n",
              "      <td>101.000000</td>\n",
              "      <td>30.500000</td>\n",
              "      <td>201.400000</td>\n",
              "      <td>100.000000</td>\n",
              "      <td>17.120000</td>\n",
              "      <td>201.200000</td>\n",
              "      <td>100.000000</td>\n",
              "      <td>9.050000</td>\n",
              "      <td>10.300000</td>\n",
              "      <td>4.000000</td>\n",
              "      <td>2.780000</td>\n",
              "      <td>1.000000</td>\n",
              "      <td>0.000000</td>\n",
              "    </tr>\n",
              "    <tr>\n",
              "      <th>75%</th>\n",
              "      <td>127.000000</td>\n",
              "      <td>20.000000</td>\n",
              "      <td>216.400000</td>\n",
              "      <td>114.000000</td>\n",
              "      <td>36.790000</td>\n",
              "      <td>235.300000</td>\n",
              "      <td>114.000000</td>\n",
              "      <td>20.000000</td>\n",
              "      <td>235.300000</td>\n",
              "      <td>113.000000</td>\n",
              "      <td>10.590000</td>\n",
              "      <td>12.100000</td>\n",
              "      <td>6.000000</td>\n",
              "      <td>3.270000</td>\n",
              "      <td>2.000000</td>\n",
              "      <td>0.000000</td>\n",
              "    </tr>\n",
              "    <tr>\n",
              "      <th>max</th>\n",
              "      <td>243.000000</td>\n",
              "      <td>51.000000</td>\n",
              "      <td>350.800000</td>\n",
              "      <td>165.000000</td>\n",
              "      <td>59.640000</td>\n",
              "      <td>363.700000</td>\n",
              "      <td>170.000000</td>\n",
              "      <td>30.910000</td>\n",
              "      <td>395.000000</td>\n",
              "      <td>175.000000</td>\n",
              "      <td>17.770000</td>\n",
              "      <td>20.000000</td>\n",
              "      <td>20.000000</td>\n",
              "      <td>5.400000</td>\n",
              "      <td>9.000000</td>\n",
              "      <td>1.000000</td>\n",
              "    </tr>\n",
              "  </tbody>\n",
              "</table>\n",
              "</div>"
            ],
            "text/plain": [
              "       account length  ...        churn\n",
              "count     3333.000000  ...  3333.000000\n",
              "mean       101.064806  ...     0.144914\n",
              "std         39.822106  ...     0.352067\n",
              "min          1.000000  ...     0.000000\n",
              "25%         74.000000  ...     0.000000\n",
              "50%        101.000000  ...     0.000000\n",
              "75%        127.000000  ...     0.000000\n",
              "max        243.000000  ...     1.000000\n",
              "\n",
              "[8 rows x 16 columns]"
            ]
          },
          "metadata": {},
          "execution_count": 8
        }
      ]
    },
    {
      "cell_type": "markdown",
      "metadata": {
        "id": "gmk1W8Z5CQZY"
      },
      "source": [
        "It seems that on average, most people are less likely to churn, based on the rates being close to 0.  "
      ]
    },
    {
      "cell_type": "markdown",
      "metadata": {
        "id": "rXIR5JP_CdwC"
      },
      "source": [
        "Lets plot each feature to see how distributed they are"
      ]
    },
    {
      "cell_type": "code",
      "metadata": {
        "colab": {
          "base_uri": "https://localhost:8080/",
          "height": 1000
        },
        "id": "1s4WCqqY5ktk",
        "outputId": "d9dbd20b-4c03-43cf-9093-63bf1b04ea26"
      },
      "source": [
        "df.hist(figsize=(30,20))\n"
      ],
      "execution_count": null,
      "outputs": [
        {
          "output_type": "execute_result",
          "data": {
            "text/plain": [
              "array([[<matplotlib.axes._subplots.AxesSubplot object at 0x7f04f4810fd0>,\n",
              "        <matplotlib.axes._subplots.AxesSubplot object at 0x7f04f4767050>,\n",
              "        <matplotlib.axes._subplots.AxesSubplot object at 0x7f04f479f690>,\n",
              "        <matplotlib.axes._subplots.AxesSubplot object at 0x7f04f4756d10>],\n",
              "       [<matplotlib.axes._subplots.AxesSubplot object at 0x7f04f47183d0>,\n",
              "        <matplotlib.axes._subplots.AxesSubplot object at 0x7f04f46cca50>,\n",
              "        <matplotlib.axes._subplots.AxesSubplot object at 0x7f04f468f110>,\n",
              "        <matplotlib.axes._subplots.AxesSubplot object at 0x7f04f4771cd0>],\n",
              "       [<matplotlib.axes._subplots.AxesSubplot object at 0x7f04f473da50>,\n",
              "        <matplotlib.axes._subplots.AxesSubplot object at 0x7f04f4611210>,\n",
              "        <matplotlib.axes._subplots.AxesSubplot object at 0x7f04f4577b90>,\n",
              "        <matplotlib.axes._subplots.AxesSubplot object at 0x7f04f452fdd0>],\n",
              "       [<matplotlib.axes._subplots.AxesSubplot object at 0x7f04f44ef490>,\n",
              "        <matplotlib.axes._subplots.AxesSubplot object at 0x7f04f44a3b10>,\n",
              "        <matplotlib.axes._subplots.AxesSubplot object at 0x7f04f44671d0>,\n",
              "        <matplotlib.axes._subplots.AxesSubplot object at 0x7f04f449b850>]],\n",
              "      dtype=object)"
            ]
          },
          "metadata": {},
          "execution_count": 9
        },
        {
          "output_type": "display_data",
          "data": {
            "image/png": "[encoded data removed]",
            "text/plain": [
              "<Figure size 2160x1440 with 16 Axes>"
            ]
          },
          "metadata": {
            "needs_background": "light"
          }
        }
      ]
    },
    {
      "cell_type": "markdown",
      "metadata": {
        "id": "R0JHZEpqCkqY"
      },
      "source": [
        "Out of these, the only truly normally distributed chart was Total Evening minutes.  Most of the other ones such as total intl chargetotal day calls, account length, are skewed in a direction. Customer service calls being the most notable example of right skewed.  "
      ]
    },
    {
      "cell_type": "markdown",
      "metadata": {
        "id": "-LF5WnKyDZrZ"
      },
      "source": [
        "Lets analyze each feature in correlation with one another"
      ]
    },
    {
      "cell_type": "markdown",
      "metadata": {
        "id": "BAcwFfUHc-AL"
      },
      "source": [
        "Account Length, Total Day Minutes, "
      ]
    },
    {
      "cell_type": "code",
      "metadata": {
        "colab": {
          "base_uri": "https://localhost:8080/",
          "height": 1000
        },
        "id": "-nlPYypC5qpM",
        "outputId": "35b4f11e-fb73-409c-bee9-6ae8f4491d38"
      },
      "source": [
        "# Visualize correlation between independant variables and the target variable. Here, the target variable is 'Chance_of_Admit'\n",
        "plt.figure(figsize=(20,16))\n",
        "sns.heatmap(df.corr(),annot = True)\n",
        "plt.show()\n",
        "\n",
        "print()\n",
        "print(\"Correlation Table\")\n",
        "# Correlation factors for 'Chance_of_Admit'.\n",
        "df.corr()"
      ],
      "execution_count": null,
      "outputs": [
        {
          "output_type": "display_data",
          "data": {
            "image/png": "[encoded data removed]",
            "text/plain": [
              "<Figure size 1440x1152 with 2 Axes>"
            ]
          },
          "metadata": {
            "needs_background": "light"
          }
        },
        {
          "output_type": "stream",
          "name": "stdout",
          "text": [
            "\n",
            "Correlation Table\n"
          ]
        },
        {
          "output_type": "execute_result",
          "data": {
            "text/html": [
              "<div>\n",
              "<style scoped>\n",
              "    .dataframe tbody tr th:only-of-type {\n",
              "        vertical-align: middle;\n",
              "    }\n",
              "\n",
              "    .dataframe tbody tr th {\n",
              "        vertical-align: top;\n",
              "    }\n",
              "\n",
              "    .dataframe thead th {\n",
              "        text-align: right;\n",
              "    }\n",
              "</style>\n",
              "<table border=\"1\" class=\"dataframe\">\n",
              "  <thead>\n",
              "    <tr style=\"text-align: right;\">\n",
              "      <th></th>\n",
              "      <th>account length</th>\n",
              "      <th>number vmail messages</th>\n",
              "      <th>total day minutes</th>\n",
              "      <th>total day calls</th>\n",
              "      <th>total day charge</th>\n",
              "      <th>total eve minutes</th>\n",
              "      <th>total eve calls</th>\n",
              "      <th>total eve charge</th>\n",
              "      <th>total night minutes</th>\n",
              "      <th>total night calls</th>\n",
              "      <th>total night charge</th>\n",
              "      <th>total intl minutes</th>\n",
              "      <th>total intl calls</th>\n",
              "      <th>total intl charge</th>\n",
              "      <th>customer service calls</th>\n",
              "      <th>churn</th>\n",
              "    </tr>\n",
              "  </thead>\n",
              "  <tbody>\n",
              "    <tr>\n",
              "      <th>account length</th>\n",
              "      <td>1.000000</td>\n",
              "      <td>-0.004628</td>\n",
              "      <td>0.006216</td>\n",
              "      <td>0.038470</td>\n",
              "      <td>0.006214</td>\n",
              "      <td>-0.006757</td>\n",
              "      <td>0.019260</td>\n",
              "      <td>-0.006745</td>\n",
              "      <td>-0.008955</td>\n",
              "      <td>-0.013176</td>\n",
              "      <td>-0.008960</td>\n",
              "      <td>0.009514</td>\n",
              "      <td>0.020661</td>\n",
              "      <td>0.009546</td>\n",
              "      <td>-0.003796</td>\n",
              "      <td>0.016541</td>\n",
              "    </tr>\n",
              "    <tr>\n",
              "      <th>number vmail messages</th>\n",
              "      <td>-0.004628</td>\n",
              "      <td>1.000000</td>\n",
              "      <td>0.000778</td>\n",
              "      <td>-0.009548</td>\n",
              "      <td>0.000776</td>\n",
              "      <td>0.017562</td>\n",
              "      <td>-0.005864</td>\n",
              "      <td>0.017578</td>\n",
              "      <td>0.007681</td>\n",
              "      <td>0.007123</td>\n",
              "      <td>0.007663</td>\n",
              "      <td>0.002856</td>\n",
              "      <td>0.013957</td>\n",
              "      <td>0.002884</td>\n",
              "      <td>-0.013263</td>\n",
              "      <td>-0.089728</td>\n",
              "    </tr>\n",
              "    <tr>\n",
              "      <th>total day minutes</th>\n",
              "      <td>0.006216</td>\n",
              "      <td>0.000778</td>\n",
              "      <td>1.000000</td>\n",
              "      <td>0.006750</td>\n",
              "      <td>1.000000</td>\n",
              "      <td>0.007043</td>\n",
              "      <td>0.015769</td>\n",
              "      <td>0.007029</td>\n",
              "      <td>0.004323</td>\n",
              "      <td>0.022972</td>\n",
              "      <td>0.004300</td>\n",
              "      <td>-0.010155</td>\n",
              "      <td>0.008033</td>\n",
              "      <td>-0.010092</td>\n",
              "      <td>-0.013423</td>\n",
              "      <td>0.205151</td>\n",
              "    </tr>\n",
              "    <tr>\n",
              "      <th>total day calls</th>\n",
              "      <td>0.038470</td>\n",
              "      <td>-0.009548</td>\n",
              "      <td>0.006750</td>\n",
              "      <td>1.000000</td>\n",
              "      <td>0.006753</td>\n",
              "      <td>-0.021451</td>\n",
              "      <td>0.006462</td>\n",
              "      <td>-0.021449</td>\n",
              "      <td>0.022938</td>\n",
              "      <td>-0.019557</td>\n",
              "      <td>0.022927</td>\n",
              "      <td>0.021565</td>\n",
              "      <td>0.004574</td>\n",
              "      <td>0.021666</td>\n",
              "      <td>-0.018942</td>\n",
              "      <td>0.018459</td>\n",
              "    </tr>\n",
              "    <tr>\n",
              "      <th>total day charge</th>\n",
              "      <td>0.006214</td>\n",
              "      <td>0.000776</td>\n",
              "      <td>1.000000</td>\n",
              "      <td>0.006753</td>\n",
              "      <td>1.000000</td>\n",
              "      <td>0.007050</td>\n",
              "      <td>0.015769</td>\n",
              "      <td>0.007036</td>\n",
              "      <td>0.004324</td>\n",
              "      <td>0.022972</td>\n",
              "      <td>0.004301</td>\n",
              "      <td>-0.010157</td>\n",
              "      <td>0.008032</td>\n",
              "      <td>-0.010094</td>\n",
              "      <td>-0.013427</td>\n",
              "      <td>0.205151</td>\n",
              "    </tr>\n",
              "    <tr>\n",
              "      <th>total eve minutes</th>\n",
              "      <td>-0.006757</td>\n",
              "      <td>0.017562</td>\n",
              "      <td>0.007043</td>\n",
              "      <td>-0.021451</td>\n",
              "      <td>0.007050</td>\n",
              "      <td>1.000000</td>\n",
              "      <td>-0.011430</td>\n",
              "      <td>1.000000</td>\n",
              "      <td>-0.012584</td>\n",
              "      <td>0.007586</td>\n",
              "      <td>-0.012593</td>\n",
              "      <td>-0.011035</td>\n",
              "      <td>0.002541</td>\n",
              "      <td>-0.011067</td>\n",
              "      <td>-0.012985</td>\n",
              "      <td>0.092796</td>\n",
              "    </tr>\n",
              "    <tr>\n",
              "      <th>total eve calls</th>\n",
              "      <td>0.019260</td>\n",
              "      <td>-0.005864</td>\n",
              "      <td>0.015769</td>\n",
              "      <td>0.006462</td>\n",
              "      <td>0.015769</td>\n",
              "      <td>-0.011430</td>\n",
              "      <td>1.000000</td>\n",
              "      <td>-0.011423</td>\n",
              "      <td>-0.002093</td>\n",
              "      <td>0.007710</td>\n",
              "      <td>-0.002056</td>\n",
              "      <td>0.008703</td>\n",
              "      <td>0.017434</td>\n",
              "      <td>0.008674</td>\n",
              "      <td>0.002423</td>\n",
              "      <td>0.009233</td>\n",
              "    </tr>\n",
              "    <tr>\n",
              "      <th>total eve charge</th>\n",
              "      <td>-0.006745</td>\n",
              "      <td>0.017578</td>\n",
              "      <td>0.007029</td>\n",
              "      <td>-0.021449</td>\n",
              "      <td>0.007036</td>\n",
              "      <td>1.000000</td>\n",
              "      <td>-0.011423</td>\n",
              "      <td>1.000000</td>\n",
              "      <td>-0.012592</td>\n",
              "      <td>0.007596</td>\n",
              "      <td>-0.012601</td>\n",
              "      <td>-0.011043</td>\n",
              "      <td>0.002541</td>\n",
              "      <td>-0.011074</td>\n",
              "      <td>-0.012987</td>\n",
              "      <td>0.092786</td>\n",
              "    </tr>\n",
              "    <tr>\n",
              "      <th>total night minutes</th>\n",
              "      <td>-0.008955</td>\n",
              "      <td>0.007681</td>\n",
              "      <td>0.004323</td>\n",
              "      <td>0.022938</td>\n",
              "      <td>0.004324</td>\n",
              "      <td>-0.012584</td>\n",
              "      <td>-0.002093</td>\n",
              "      <td>-0.012592</td>\n",
              "      <td>1.000000</td>\n",
              "      <td>0.011204</td>\n",
              "      <td>0.999999</td>\n",
              "      <td>-0.015207</td>\n",
              "      <td>-0.012353</td>\n",
              "      <td>-0.015180</td>\n",
              "      <td>-0.009288</td>\n",
              "      <td>0.035493</td>\n",
              "    </tr>\n",
              "    <tr>\n",
              "      <th>total night calls</th>\n",
              "      <td>-0.013176</td>\n",
              "      <td>0.007123</td>\n",
              "      <td>0.022972</td>\n",
              "      <td>-0.019557</td>\n",
              "      <td>0.022972</td>\n",
              "      <td>0.007586</td>\n",
              "      <td>0.007710</td>\n",
              "      <td>0.007596</td>\n",
              "      <td>0.011204</td>\n",
              "      <td>1.000000</td>\n",
              "      <td>0.011188</td>\n",
              "      <td>-0.013605</td>\n",
              "      <td>0.000305</td>\n",
              "      <td>-0.013630</td>\n",
              "      <td>-0.012802</td>\n",
              "      <td>0.006141</td>\n",
              "    </tr>\n",
              "    <tr>\n",
              "      <th>total night charge</th>\n",
              "      <td>-0.008960</td>\n",
              "      <td>0.007663</td>\n",
              "      <td>0.004300</td>\n",
              "      <td>0.022927</td>\n",
              "      <td>0.004301</td>\n",
              "      <td>-0.012593</td>\n",
              "      <td>-0.002056</td>\n",
              "      <td>-0.012601</td>\n",
              "      <td>0.999999</td>\n",
              "      <td>0.011188</td>\n",
              "      <td>1.000000</td>\n",
              "      <td>-0.015214</td>\n",
              "      <td>-0.012329</td>\n",
              "      <td>-0.015186</td>\n",
              "      <td>-0.009277</td>\n",
              "      <td>0.035496</td>\n",
              "    </tr>\n",
              "    <tr>\n",
              "      <th>total intl minutes</th>\n",
              "      <td>0.009514</td>\n",
              "      <td>0.002856</td>\n",
              "      <td>-0.010155</td>\n",
              "      <td>0.021565</td>\n",
              "      <td>-0.010157</td>\n",
              "      <td>-0.011035</td>\n",
              "      <td>0.008703</td>\n",
              "      <td>-0.011043</td>\n",
              "      <td>-0.015207</td>\n",
              "      <td>-0.013605</td>\n",
              "      <td>-0.015214</td>\n",
              "      <td>1.000000</td>\n",
              "      <td>0.032304</td>\n",
              "      <td>0.999993</td>\n",
              "      <td>-0.009640</td>\n",
              "      <td>0.068239</td>\n",
              "    </tr>\n",
              "    <tr>\n",
              "      <th>total intl calls</th>\n",
              "      <td>0.020661</td>\n",
              "      <td>0.013957</td>\n",
              "      <td>0.008033</td>\n",
              "      <td>0.004574</td>\n",
              "      <td>0.008032</td>\n",
              "      <td>0.002541</td>\n",
              "      <td>0.017434</td>\n",
              "      <td>0.002541</td>\n",
              "      <td>-0.012353</td>\n",
              "      <td>0.000305</td>\n",
              "      <td>-0.012329</td>\n",
              "      <td>0.032304</td>\n",
              "      <td>1.000000</td>\n",
              "      <td>0.032372</td>\n",
              "      <td>-0.017561</td>\n",
              "      <td>-0.052844</td>\n",
              "    </tr>\n",
              "    <tr>\n",
              "      <th>total intl charge</th>\n",
              "      <td>0.009546</td>\n",
              "      <td>0.002884</td>\n",
              "      <td>-0.010092</td>\n",
              "      <td>0.021666</td>\n",
              "      <td>-0.010094</td>\n",
              "      <td>-0.011067</td>\n",
              "      <td>0.008674</td>\n",
              "      <td>-0.011074</td>\n",
              "      <td>-0.015180</td>\n",
              "      <td>-0.013630</td>\n",
              "      <td>-0.015186</td>\n",
              "      <td>0.999993</td>\n",
              "      <td>0.032372</td>\n",
              "      <td>1.000000</td>\n",
              "      <td>-0.009675</td>\n",
              "      <td>0.068259</td>\n",
              "    </tr>\n",
              "    <tr>\n",
              "      <th>customer service calls</th>\n",
              "      <td>-0.003796</td>\n",
              "      <td>-0.013263</td>\n",
              "      <td>-0.013423</td>\n",
              "      <td>-0.018942</td>\n",
              "      <td>-0.013427</td>\n",
              "      <td>-0.012985</td>\n",
              "      <td>0.002423</td>\n",
              "      <td>-0.012987</td>\n",
              "      <td>-0.009288</td>\n",
              "      <td>-0.012802</td>\n",
              "      <td>-0.009277</td>\n",
              "      <td>-0.009640</td>\n",
              "      <td>-0.017561</td>\n",
              "      <td>-0.009675</td>\n",
              "      <td>1.000000</td>\n",
              "      <td>0.208750</td>\n",
              "    </tr>\n",
              "    <tr>\n",
              "      <th>churn</th>\n",
              "      <td>0.016541</td>\n",
              "      <td>-0.089728</td>\n",
              "      <td>0.205151</td>\n",
              "      <td>0.018459</td>\n",
              "      <td>0.205151</td>\n",
              "      <td>0.092796</td>\n",
              "      <td>0.009233</td>\n",
              "      <td>0.092786</td>\n",
              "      <td>0.035493</td>\n",
              "      <td>0.006141</td>\n",
              "      <td>0.035496</td>\n",
              "      <td>0.068239</td>\n",
              "      <td>-0.052844</td>\n",
              "      <td>0.068259</td>\n",
              "      <td>0.208750</td>\n",
              "      <td>1.000000</td>\n",
              "    </tr>\n",
              "  </tbody>\n",
              "</table>\n",
              "</div>"
            ],
            "text/plain": [
              "                        account length  ...     churn\n",
              "account length                1.000000  ...  0.016541\n",
              "number vmail messages        -0.004628  ... -0.089728\n",
              "total day minutes             0.006216  ...  0.205151\n",
              "total day calls               0.038470  ...  0.018459\n",
              "total day charge              0.006214  ...  0.205151\n",
              "total eve minutes            -0.006757  ...  0.092796\n",
              "total eve calls               0.019260  ...  0.009233\n",
              "total eve charge             -0.006745  ...  0.092786\n",
              "total night minutes          -0.008955  ...  0.035493\n",
              "total night calls            -0.013176  ...  0.006141\n",
              "total night charge           -0.008960  ...  0.035496\n",
              "total intl minutes            0.009514  ...  0.068239\n",
              "total intl calls              0.020661  ... -0.052844\n",
              "total intl charge             0.009546  ...  0.068259\n",
              "customer service calls       -0.003796  ...  0.208750\n",
              "churn                         0.016541  ...  1.000000\n",
              "\n",
              "[16 rows x 16 columns]"
            ]
          },
          "metadata": {},
          "execution_count": 10
        }
      ]
    },
    {
      "cell_type": "markdown",
      "metadata": {
        "id": "nBm1WtAhdmJr"
      },
      "source": [
        "From the chart above, barely any correlation exists between the majority of the features.  \n",
        "\n",
        "The only ones that have any high correlation are the Total (Time) Minutes on call with the Total (Time) Charge.\n",
        "\n",
        "The variables that have any kind of correlation with our target variable \"churn\" are:  total day minutes, total day charge, and customer service calls.  "
      ]
    },
    {
      "cell_type": "markdown",
      "metadata": {
        "id": "8awI2ysoGUWW"
      },
      "source": [
        "### **Evaluation metric**\n",
        "To evaluate the model I will use f1 score along with looking at the accuracy and f1. F1 is a balance of precision and recall.\n",
        "\n",
        "In context of this dataset, a lower precision may mean more customers will be likely to churn while a higher one will be more customers will not churn.  As mentioned before, there are a lot more people that tend to stay with the company then leave.  If a customer leaves, then the company will lose money in profits and providing supplies/resources to that customer.  \n",
        "\n",
        "A low recall means more people that will churn back are being predicted as not churning. "
      ]
    },
    {
      "cell_type": "markdown",
      "metadata": {
        "id": "bammG0T3Dkgl"
      },
      "source": [
        "Let's begin analyzing the features.  As there are quite a lot of feature in this dataset, we will limit the number of features we will see to 5.  \n",
        "\n",
        "Starting with Select K Best, we will filter out any irrelvent features to our target variable \"churn,\" and only use the features that have the impact.  "
      ]
    },
    {
      "cell_type": "markdown",
      "metadata": {
        "id": "UxvnmXqe51dE"
      },
      "source": [
        "### Select K Best"
      ]
    },
    {
      "cell_type": "markdown",
      "metadata": {
        "id": "3sbLDl8Cdf0r"
      },
      "source": [
        "To begin, Select K Best is a feature selection is a technique where we choose those features in our data that contribute most to the target variable. In other words we choose the best predictors for the target variable.\n",
        "\n",
        "Select K Best simply retains the first k features of X with the highest scores\n"
      ]
    },
    {
      "cell_type": "code",
      "metadata": {
        "id": "j4r8-B0R52oP"
      },
      "source": [
        "# Filter out features irrelevant to my target coiumn\n",
        "# Split df into x and Y\n",
        "target_col = \"churn\"\n",
        "X = df.loc[:, df.columns != target_col]\n",
        "y = df['churn']\n",
        "\n",
        "# Split the data into train and test with 70% data being used for training\n",
        "X_train, X_test, y_train, y_test = train_test_split(X, y, \n",
        "                                                    test_size=0.30, \n",
        "                                                    random_state=42)\n",
        "\n",
        "\n"
      ],
      "execution_count": null,
      "outputs": []
    },
    {
      "cell_type": "code",
      "metadata": {
        "colab": {
          "base_uri": "https://localhost:8080/"
        },
        "id": "Z74j-vZH6ode",
        "outputId": "ec96b48f-7e54-436f-ea1f-1073567cbc83"
      },
      "source": [
        "X_new =SelectKBest(score_func=chi2,k=5).fit_transform(X_train,y_train)\n",
        "best = X_new[0:5]\n",
        "best\n"
      ],
      "execution_count": null,
      "outputs": [
        {
          "output_type": "execute_result",
          "data": {
            "text/plain": [
              "array([[  0.  , 202.4 ,  34.41, 260.2 ,   3.  ],\n",
              "       [  0.  , 132.9 ,  22.59,  67.  ,   3.  ],\n",
              "       [ 12.  , 221.  ,  37.57, 151.  ,   2.  ],\n",
              "       [  0.  , 278.9 ,  47.41, 190.2 ,   0.  ],\n",
              "       [ 43.  , 177.9 ,  30.24, 175.1 ,   1.  ]])"
            ]
          },
          "metadata": {},
          "execution_count": 12
        }
      ]
    },
    {
      "cell_type": "markdown",
      "metadata": {
        "id": "gaiBJvctAu6O"
      },
      "source": [
        "The best features are: number vmail messages, today day minutes, total day charge, total evening minutes, customer service calls, and churn"
      ]
    },
    {
      "cell_type": "code",
      "metadata": {
        "id": "g5jYE8lPBS6v"
      },
      "source": [
        "# Let's split up the features\n",
        "X = df.drop(['account length', 'total day calls', 'total eve calls', 'total eve charge', 'total night minutes', 'total night calls', 'total night charge', 'total intl minutes', 'total intl calls', 'total intl charge', 'churn'], axis=1)\n",
        "y = df['churn']"
      ],
      "execution_count": null,
      "outputs": []
    },
    {
      "cell_type": "code",
      "metadata": {
        "id": "UTNCp2EyACrH"
      },
      "source": [
        "X_train, X_test, y_train, y_test = train_test_split(X, y, test_size = 0.3, random_state = 450)\n"
      ],
      "execution_count": null,
      "outputs": []
    },
    {
      "cell_type": "code",
      "metadata": {
        "colab": {
          "base_uri": "https://localhost:8080/",
          "height": 204
        },
        "id": "uZ-RP2cNCSP_",
        "outputId": "ccf11c85-1582-4cc4-9b27-32bb4de96079"
      },
      "source": [
        "X_train.head()"
      ],
      "execution_count": null,
      "outputs": [
        {
          "output_type": "execute_result",
          "data": {
            "text/html": [
              "<div>\n",
              "<style scoped>\n",
              "    .dataframe tbody tr th:only-of-type {\n",
              "        vertical-align: middle;\n",
              "    }\n",
              "\n",
              "    .dataframe tbody tr th {\n",
              "        vertical-align: top;\n",
              "    }\n",
              "\n",
              "    .dataframe thead th {\n",
              "        text-align: right;\n",
              "    }\n",
              "</style>\n",
              "<table border=\"1\" class=\"dataframe\">\n",
              "  <thead>\n",
              "    <tr style=\"text-align: right;\">\n",
              "      <th></th>\n",
              "      <th>number vmail messages</th>\n",
              "      <th>total day minutes</th>\n",
              "      <th>total day charge</th>\n",
              "      <th>total eve minutes</th>\n",
              "      <th>customer service calls</th>\n",
              "    </tr>\n",
              "  </thead>\n",
              "  <tbody>\n",
              "    <tr>\n",
              "      <th>1012</th>\n",
              "      <td>0</td>\n",
              "      <td>104.9</td>\n",
              "      <td>17.83</td>\n",
              "      <td>198.5</td>\n",
              "      <td>2</td>\n",
              "    </tr>\n",
              "    <tr>\n",
              "      <th>3016</th>\n",
              "      <td>0</td>\n",
              "      <td>203.0</td>\n",
              "      <td>34.51</td>\n",
              "      <td>150.9</td>\n",
              "      <td>1</td>\n",
              "    </tr>\n",
              "    <tr>\n",
              "      <th>2035</th>\n",
              "      <td>0</td>\n",
              "      <td>203.5</td>\n",
              "      <td>34.60</td>\n",
              "      <td>289.6</td>\n",
              "      <td>3</td>\n",
              "    </tr>\n",
              "    <tr>\n",
              "      <th>237</th>\n",
              "      <td>0</td>\n",
              "      <td>74.5</td>\n",
              "      <td>12.67</td>\n",
              "      <td>200.8</td>\n",
              "      <td>3</td>\n",
              "    </tr>\n",
              "    <tr>\n",
              "      <th>1282</th>\n",
              "      <td>0</td>\n",
              "      <td>229.4</td>\n",
              "      <td>39.00</td>\n",
              "      <td>214.1</td>\n",
              "      <td>4</td>\n",
              "    </tr>\n",
              "  </tbody>\n",
              "</table>\n",
              "</div>"
            ],
            "text/plain": [
              "      number vmail messages  ...  customer service calls\n",
              "1012                      0  ...                       2\n",
              "3016                      0  ...                       1\n",
              "2035                      0  ...                       3\n",
              "237                       0  ...                       3\n",
              "1282                      0  ...                       4\n",
              "\n",
              "[5 rows x 5 columns]"
            ]
          },
          "metadata": {},
          "execution_count": 15
        }
      ]
    },
    {
      "cell_type": "code",
      "metadata": {
        "colab": {
          "base_uri": "https://localhost:8080/"
        },
        "id": "xvpre8nTCS8F",
        "outputId": "ddfcb2e4-69c1-43fb-83ae-563276d4d09a"
      },
      "source": [
        "y_train.head()"
      ],
      "execution_count": null,
      "outputs": [
        {
          "output_type": "execute_result",
          "data": {
            "text/plain": [
              "1012    0\n",
              "3016    0\n",
              "2035    0\n",
              "237     0\n",
              "1282    0\n",
              "Name: churn, dtype: int64"
            ]
          },
          "metadata": {},
          "execution_count": 16
        }
      ]
    },
    {
      "cell_type": "markdown",
      "metadata": {
        "id": "upUx3BUcEJth"
      },
      "source": [
        "Now that we've split up our dataset, let's incorporate the features into various Machine Learning Algorithms, starting with Decision Tree"
      ]
    },
    {
      "cell_type": "markdown",
      "metadata": {
        "id": "o09LWCefJeYS"
      },
      "source": [
        "### Decision Tree Classification with Select K Best"
      ]
    },
    {
      "cell_type": "markdown",
      "metadata": {
        "id": "omN5JdEECW3v"
      },
      "source": [
        "### Grid Search"
      ]
    },
    {
      "cell_type": "code",
      "metadata": {
        "id": "wWMY0mL-CX4C"
      },
      "source": [
        "dtc = DecisionTreeClassifier()\n",
        "\n",
        "params = {\n",
        "'criterion': ['gini'],\n",
        "'min_samples_leaf': range(1,10),\n",
        "'max_depth': range(1,10)\n",
        "}\n",
        "\n",
        "gridTree = GridSearchCV(estimator=dtc,param_grid=params, scoring='f1')"
      ],
      "execution_count": null,
      "outputs": []
    },
    {
      "cell_type": "code",
      "metadata": {
        "colab": {
          "base_uri": "https://localhost:8080/"
        },
        "id": "6WATPsubDYHq",
        "outputId": "1b8d0c3a-020f-441a-ce84-9e021763a301"
      },
      "source": [
        "dtc.fit(X_train, y_train)\n"
      ],
      "execution_count": null,
      "outputs": [
        {
          "output_type": "execute_result",
          "data": {
            "text/plain": [
              "DecisionTreeClassifier(ccp_alpha=0.0, class_weight=None, criterion='gini',\n",
              "                       max_depth=None, max_features=None, max_leaf_nodes=None,\n",
              "                       min_impurity_decrease=0.0, min_impurity_split=None,\n",
              "                       min_samples_leaf=1, min_samples_split=2,\n",
              "                       min_weight_fraction_leaf=0.0, presort='deprecated',\n",
              "                       random_state=None, splitter='best')"
            ]
          },
          "metadata": {},
          "execution_count": 18
        }
      ]
    },
    {
      "cell_type": "code",
      "metadata": {
        "colab": {
          "base_uri": "https://localhost:8080/"
        },
        "id": "FCSAmMCOESoD",
        "outputId": "6313d9dc-bd09-437d-a3fc-03f1b7bf507f"
      },
      "source": [
        "gridTree.fit(X_train, y_train)"
      ],
      "execution_count": null,
      "outputs": [
        {
          "output_type": "execute_result",
          "data": {
            "text/plain": [
              "GridSearchCV(cv=None, error_score=nan,\n",
              "             estimator=DecisionTreeClassifier(ccp_alpha=0.0, class_weight=None,\n",
              "                                              criterion='gini', max_depth=None,\n",
              "                                              max_features=None,\n",
              "                                              max_leaf_nodes=None,\n",
              "                                              min_impurity_decrease=0.0,\n",
              "                                              min_impurity_split=None,\n",
              "                                              min_samples_leaf=1,\n",
              "                                              min_samples_split=2,\n",
              "                                              min_weight_fraction_leaf=0.0,\n",
              "                                              presort='deprecated',\n",
              "                                              random_state=None,\n",
              "                                              splitter='best'),\n",
              "             iid='deprecated', n_jobs=None,\n",
              "             param_grid={'criterion': ['gini'], 'max_depth': range(1, 10),\n",
              "                         'min_samples_leaf': range(1, 10)},\n",
              "             pre_dispatch='2*n_jobs', refit=True, return_train_score=False,\n",
              "             scoring='f1', verbose=0)"
            ]
          },
          "metadata": {},
          "execution_count": 19
        }
      ]
    },
    {
      "cell_type": "code",
      "metadata": {
        "colab": {
          "base_uri": "https://localhost:8080/"
        },
        "id": "vKvjXLCQHK7h",
        "outputId": "ba19c09d-9dbb-4441-a7e6-89986de60283"
      },
      "source": [
        "gridTree.best_params_"
      ],
      "execution_count": null,
      "outputs": [
        {
          "output_type": "execute_result",
          "data": {
            "text/plain": [
              "{'criterion': 'gini', 'max_depth': 8, 'min_samples_leaf': 7}"
            ]
          },
          "metadata": {},
          "execution_count": 20
        }
      ]
    },
    {
      "cell_type": "markdown",
      "metadata": {
        "id": "_i-kI3mkHNbO"
      },
      "source": [
        "### Cross Validation, Confusion Matrix, and Classification Reports\n"
      ]
    },
    {
      "cell_type": "code",
      "metadata": {
        "colab": {
          "base_uri": "https://localhost:8080/"
        },
        "id": "mh-2yvfFHu2R",
        "outputId": "33850e1d-fa63-4a5d-e769-eae176c92212"
      },
      "source": [
        "# Decision model with cross validation.\n",
        "\n",
        "# Initialize and train our tree.\n",
        "decision_tree = tree.DecisionTreeClassifier(\n",
        "    criterion='gini',\n",
        "    min_samples_leaf = 7,\n",
        "    min_samples_split= 7\n",
        ")\n",
        "decision_tree.fit(X, y)\n",
        "predict_test_dct = decision_tree.predict(X_test)\n",
        "\n",
        "# Render our tree.\n",
        "dot_data = tree.export_graphviz(\n",
        "    decision_tree, out_file=None,\n",
        "    feature_names=X.columns,\n",
        "    class_names=['Churn', 'Did Not Churn'],\n",
        "    filled=True\n",
        ")\n",
        "score = cross_val_score(decision_tree, X, y, cv=5)\n",
        "print(\"Score : \",score)\n",
        "print(\"Variance : \", format(score.std()**2, 'f'))\n"
      ],
      "execution_count": null,
      "outputs": [
        {
          "output_type": "stream",
          "name": "stdout",
          "text": [
            "Score :  [0.90554723 0.91304348 0.92203898 0.91591592 0.92042042]\n",
            "Variance :  0.000034\n"
          ]
        }
      ]
    },
    {
      "cell_type": "code",
      "metadata": {
        "colab": {
          "base_uri": "https://localhost:8080/",
          "height": 592
        },
        "id": "OCtf0a_rIEmP",
        "outputId": "c3714187-0af3-4d0f-9382-52a9f63e6b0f"
      },
      "source": [
        "# Confusion matrix\n",
        "cm_dct = confusion_matrix(y_test,predict_test_dct)\n",
        "\n",
        "# Visualization of Confusion matrix.\n",
        "f, ax = plt.subplots(figsize =(6,6))\n",
        "sns.heatmap(cm_dct,annot = True,linewidths=0.5,linecolor=\"red\",fmt = \".0f\",ax=ax)\n",
        "plt.xlabel(\"predictions\")\n",
        "plt.ylabel(\"Actuals\")\n",
        "plt.show()\n",
        "\n",
        "f1_score_dct = f1_score(y_test,predict_test_dct)\n",
        "score_dct = decision_tree.score(X_test,y_test)\n",
        "\n",
        "# train the model on train set\n",
        "model = DecisionTreeClassifier()\n",
        "model.fit(X_train, y_train)\n",
        "  \n",
        "# print prediction results\n",
        "predictions = model.predict(X_test)\n",
        "print()\n",
        "print(\"Classification Report\")\n",
        "print()\n",
        "print(classification_report(y_test, predictions))\n",
        "\n"
      ],
      "execution_count": null,
      "outputs": [
        {
          "output_type": "display_data",
          "data": {
            "image/png": "[encoded data removed]",
            "text/plain": [
              "<Figure size 432x432 with 2 Axes>"
            ]
          },
          "metadata": {
            "needs_background": "light"
          }
        },
        {
          "output_type": "stream",
          "name": "stdout",
          "text": [
            "\n",
            "Classification Report\n",
            "\n",
            "              precision    recall  f1-score   support\n",
            "\n",
            "           0       0.92      0.91      0.92       857\n",
            "           1       0.51      0.54      0.53       143\n",
            "\n",
            "    accuracy                           0.86      1000\n",
            "   macro avg       0.72      0.73      0.72      1000\n",
            "weighted avg       0.86      0.86      0.86      1000\n",
            "\n"
          ]
        }
      ]
    },
    {
      "cell_type": "markdown",
      "metadata": {
        "id": "8VjypsszZ-Ri"
      },
      "source": [
        "### Random Forest Classification"
      ]
    },
    {
      "cell_type": "markdown",
      "metadata": {
        "id": "cwFLhfTVbNMz"
      },
      "source": [
        "### Grid"
      ]
    },
    {
      "cell_type": "code",
      "metadata": {
        "id": "kzfx0QhKbOGh"
      },
      "source": [
        "from sklearn import ensemble\n",
        "\n",
        "rfc = ensemble.RandomForestClassifier()\n",
        "\n",
        "X = df.drop(['account length', 'total day calls', 'total eve calls', 'total eve charge', 'total night minutes', 'total night calls', 'total night charge', 'total intl minutes', 'total intl calls', 'total intl charge', 'churn'], axis=1)\n",
        "y = df['churn']\n",
        "\n",
        "\n",
        "params = {\n",
        "    'criterion':['entropy','gini'],\n",
        "    'max_depth':[3,4,7],\n",
        "    'class_weight':['balanced','balanced_subsample']\n",
        "}\n",
        "gridRFC = GridSearchCV(rfc,params,scoring='f1')\n",
        "\n"
      ],
      "execution_count": null,
      "outputs": []
    },
    {
      "cell_type": "code",
      "metadata": {
        "colab": {
          "base_uri": "https://localhost:8080/"
        },
        "id": "hKWuwklNbiQ4",
        "outputId": "cb687b80-21f7-46d2-fae1-667625c79ed4"
      },
      "source": [
        "gridRFC.fit(X_train, y_train)"
      ],
      "execution_count": null,
      "outputs": [
        {
          "output_type": "execute_result",
          "data": {
            "text/plain": [
              "GridSearchCV(cv=None, error_score=nan,\n",
              "             estimator=RandomForestClassifier(bootstrap=True, ccp_alpha=0.0,\n",
              "                                              class_weight=None,\n",
              "                                              criterion='gini', max_depth=None,\n",
              "                                              max_features='auto',\n",
              "                                              max_leaf_nodes=None,\n",
              "                                              max_samples=None,\n",
              "                                              min_impurity_decrease=0.0,\n",
              "                                              min_impurity_split=None,\n",
              "                                              min_samples_leaf=1,\n",
              "                                              min_samples_split=2,\n",
              "                                              min_weight_fraction_leaf=0.0,\n",
              "                                              n_estimators=100, n_jobs=None,\n",
              "                                              oob_score=False,\n",
              "                                              random_state=None, verbose=0,\n",
              "                                              warm_start=False),\n",
              "             iid='deprecated', n_jobs=None,\n",
              "             param_grid={'class_weight': ['balanced', 'balanced_subsample'],\n",
              "                         'criterion': ['entropy', 'gini'],\n",
              "                         'max_depth': [3, 4, 7]},\n",
              "             pre_dispatch='2*n_jobs', refit=True, return_train_score=False,\n",
              "             scoring='f1', verbose=0)"
            ]
          },
          "metadata": {},
          "execution_count": 24
        }
      ]
    },
    {
      "cell_type": "code",
      "metadata": {
        "colab": {
          "base_uri": "https://localhost:8080/"
        },
        "id": "f5fQY5n2db-_",
        "outputId": "d1acf7dd-2e8b-4fec-cee2-0f876ab584f6"
      },
      "source": [
        "gridRFC.best_params_"
      ],
      "execution_count": null,
      "outputs": [
        {
          "output_type": "execute_result",
          "data": {
            "text/plain": [
              "{'class_weight': 'balanced_subsample', 'criterion': 'gini', 'max_depth': 7}"
            ]
          },
          "metadata": {},
          "execution_count": 25
        }
      ]
    },
    {
      "cell_type": "markdown",
      "metadata": {
        "id": "gRtsyvnJeD5s"
      },
      "source": [
        "### Cross Validation"
      ]
    },
    {
      "cell_type": "code",
      "metadata": {
        "colab": {
          "base_uri": "https://localhost:8080/"
        },
        "id": "Qt4j-8B_aAXy",
        "outputId": "8182119b-472b-4cde-bc06-543c9da1f658"
      },
      "source": [
        "rfc1 = ensemble.RandomForestClassifier()\n",
        "params = {'class_weight': 'balanced', 'criterion': 'entropy', 'max_depth': 7}\n",
        "\n",
        "X = df.drop(['account length', 'total day calls', 'total eve calls', 'total eve charge', 'total night minutes', 'total night calls', 'total night charge', 'total intl minutes', 'total intl calls', 'total intl charge', 'churn'], axis=1)\n",
        "y = df['churn']\n",
        "\n",
        "rfc1.fit(X_train,y_train)\n",
        "predict_test_rfc = rfc1.predict(X_test)\n",
        "\n",
        "score = cross_val_score(rfc1, X, y, cv=5)\n",
        "print(\"Cross validation Score : \",score)\n",
        "print(\"Variance : \",format(score.std()**2, 'f'))"
      ],
      "execution_count": null,
      "outputs": [
        {
          "output_type": "stream",
          "name": "stdout",
          "text": [
            "Cross validation Score :  [0.91304348 0.91304348 0.92053973 0.92192192 0.92642643]\n",
            "Variance :  0.000027\n"
          ]
        }
      ]
    },
    {
      "cell_type": "markdown",
      "metadata": {
        "id": "0Vdyp-nNiXdK"
      },
      "source": [
        "Confusion Matrix & Classification Report"
      ]
    },
    {
      "cell_type": "code",
      "metadata": {
        "colab": {
          "base_uri": "https://localhost:8080/",
          "height": 538
        },
        "id": "pOfaSi4TiZ3t",
        "outputId": "710c9515-368d-499f-c301-819b354c0238"
      },
      "source": [
        "# Confusion matrix\n",
        "cm_rfc = confusion_matrix(y_test,predict_test_rfc)\n",
        "\n",
        "# Visualization of Confusion matrix.\n",
        "f, ax = plt.subplots(figsize =(5,5))\n",
        "sns.heatmap(cm_rfc,annot = True,linewidths=0.5,linecolor=\"red\",fmt = \".0f\",ax=ax)\n",
        "plt.xlabel(\"predictions\")\n",
        "plt.ylabel(\"Actuals\")\n",
        "plt.show()\n",
        "\n",
        "f1_score_rfc = f1_score(y_test,predict_test_rfc)\n",
        "score_rfc = rfc1.score(X_test,y_test)\n",
        "\n",
        "# train the model on train set\n",
        "model = RandomForestClassifier()\n",
        "model.fit(X_train, y_train)\n",
        "# print prediction results\n",
        "print()\n",
        "print(\"Classification Report:\")\n",
        "print()  \n",
        "# print prediction results\n",
        "predictions = model.predict(X_test)\n",
        "print(classification_report(y_test, predictions))\n"
      ],
      "execution_count": null,
      "outputs": [
        {
          "output_type": "display_data",
          "data": {
            "image/png": "[encoded data removed]",
            "text/plain": [
              "<Figure size 360x360 with 2 Axes>"
            ]
          },
          "metadata": {
            "needs_background": "light"
          }
        },
        {
          "output_type": "stream",
          "name": "stdout",
          "text": [
            "\n",
            "Classification Report:\n",
            "\n",
            "              precision    recall  f1-score   support\n",
            "\n",
            "           0       0.93      0.99      0.96       857\n",
            "           1       0.90      0.55      0.68       143\n",
            "\n",
            "    accuracy                           0.93      1000\n",
            "   macro avg       0.91      0.77      0.82      1000\n",
            "weighted avg       0.93      0.93      0.92      1000\n",
            "\n"
          ]
        }
      ]
    },
    {
      "cell_type": "markdown",
      "metadata": {
        "id": "3-3deNXdjE9b"
      },
      "source": [
        "### K Nearest Neighbor Classification"
      ]
    },
    {
      "cell_type": "code",
      "metadata": {
        "id": "fBlgeqDpjI0L"
      },
      "source": [
        "# KNN Regression model with cross validation.\n",
        "\n",
        "knnc = neighbors.KNeighborsClassifier()\n",
        "\n",
        "params = {\n",
        "    'n_neighbors' : [2,3,5,7,10],\n",
        "    'weights' : ['uniform','distance']\n",
        "}\n",
        "gridknnc = GridSearchCV(estimator=knnc,param_grid=params,scoring='neg_root_mean_squared_error')"
      ],
      "execution_count": null,
      "outputs": []
    },
    {
      "cell_type": "markdown",
      "metadata": {
        "id": "Mx1xDSS1kcC1"
      },
      "source": [
        "### Grid Search"
      ]
    },
    {
      "cell_type": "code",
      "metadata": {
        "colab": {
          "base_uri": "https://localhost:8080/"
        },
        "id": "OOUfvGOUkdzs",
        "outputId": "dab4987f-31f7-434b-a356-4256ad4ff7e0"
      },
      "source": [
        "gridknnc.fit(X_train, y_train)"
      ],
      "execution_count": null,
      "outputs": [
        {
          "output_type": "execute_result",
          "data": {
            "text/plain": [
              "GridSearchCV(cv=None, error_score=nan,\n",
              "             estimator=KNeighborsClassifier(algorithm='auto', leaf_size=30,\n",
              "                                            metric='minkowski',\n",
              "                                            metric_params=None, n_jobs=None,\n",
              "                                            n_neighbors=5, p=2,\n",
              "                                            weights='uniform'),\n",
              "             iid='deprecated', n_jobs=None,\n",
              "             param_grid={'n_neighbors': [2, 3, 5, 7, 10],\n",
              "                         'weights': ['uniform', 'distance']},\n",
              "             pre_dispatch='2*n_jobs', refit=True, return_train_score=False,\n",
              "             scoring='neg_root_mean_squared_error', verbose=0)"
            ]
          },
          "metadata": {},
          "execution_count": 29
        }
      ]
    },
    {
      "cell_type": "code",
      "metadata": {
        "colab": {
          "base_uri": "https://localhost:8080/"
        },
        "id": "lkLvryQslYa-",
        "outputId": "01796de6-afa8-4272-e938-684a0376eca5"
      },
      "source": [
        "gridknnc.best_params_\n"
      ],
      "execution_count": null,
      "outputs": [
        {
          "output_type": "execute_result",
          "data": {
            "text/plain": [
              "{'n_neighbors': 10, 'weights': 'uniform'}"
            ]
          },
          "metadata": {},
          "execution_count": 30
        }
      ]
    },
    {
      "cell_type": "code",
      "metadata": {
        "id": "huX8c5b_leuv"
      },
      "source": [
        "knnc2 = neighbors.KNeighborsClassifier(n_neighbors=7, weights='uniform')\n",
        "X = df.drop(['account length', 'total day calls', 'total eve calls', 'total eve charge', 'total night minutes', 'total night calls', 'total night charge', 'total intl minutes', 'total intl calls', 'total intl charge', 'churn'], axis=1)\n",
        "y = df['churn']"
      ],
      "execution_count": null,
      "outputs": []
    },
    {
      "cell_type": "markdown",
      "metadata": {
        "id": "2_dGsaNAdVcz"
      },
      "source": [
        "### Cross Validation"
      ]
    },
    {
      "cell_type": "code",
      "metadata": {
        "colab": {
          "base_uri": "https://localhost:8080/"
        },
        "id": "v5gdXTK4l04P",
        "outputId": "d3201cce-c6bf-4510-d0fb-5143d5aacfe8"
      },
      "source": [
        "# Cross Validation Score\n",
        "\n",
        "knnc2.fit(X_train,y_train)\n",
        "predict_test_knnc2 = knnc2.predict(X_test)\n",
        "\n",
        "score = cross_val_score(knnc2, X, y, cv=5)\n",
        "print(\"Score : \",score)\n",
        "print(\"Variance : \",format(score.std()**2, 'f'))"
      ],
      "execution_count": null,
      "outputs": [
        {
          "output_type": "stream",
          "name": "stdout",
          "text": [
            "Score :  [0.88455772 0.88155922 0.88905547 0.8993994  0.89489489]\n",
            "Variance :  0.000043\n"
          ]
        }
      ]
    },
    {
      "cell_type": "markdown",
      "metadata": {
        "id": "AasRcUdvdXp8"
      },
      "source": [
        "### Confusion Matrix and Classification Report"
      ]
    },
    {
      "cell_type": "code",
      "metadata": {
        "colab": {
          "base_uri": "https://localhost:8080/",
          "height": 429
        },
        "id": "-jePfjtTmvMR",
        "outputId": "1c321bab-a5fa-4bca-8ff8-2b574e6ba55a"
      },
      "source": [
        "# Confusion matrix\n",
        "cm_knnc2 = confusion_matrix(y_test,predict_test_knnc2)\n",
        "\n",
        "# Visualization of Confusion matrix.\n",
        "f, ax = plt.subplots(figsize =(3,3))\n",
        "sns.heatmap(cm_knnc2,annot = True,linewidths=0.5,linecolor=\"red\",fmt = \".0f\",ax=ax)\n",
        "plt.xlabel(\"predictions\")\n",
        "plt.ylabel(\"Actuals\")\n",
        "plt.show()\n",
        "\n",
        "f1_score_knnc2 = f1_score(y_test,predict_test_knnc2)\n",
        "score_knnc2 = knnc2.score(X_test,y_test)\n",
        "\n",
        "# train the model on train set\n",
        "model = RandomForestClassifier()\n",
        "model.fit(X_train, y_train)\n",
        "# print prediction results\n",
        "print()\n",
        "print(\"Classification Report:\")\n",
        "print()  \n",
        "# print prediction results\n",
        "predictions = model.predict(X_test)\n",
        "print(classification_report(y_test, predictions))\n"
      ],
      "execution_count": null,
      "outputs": [
        {
          "output_type": "display_data",
          "data": {
            "image/png": "[encoded data removed]",
            "text/plain": [
              "<Figure size 216x216 with 2 Axes>"
            ]
          },
          "metadata": {
            "needs_background": "light"
          }
        },
        {
          "output_type": "stream",
          "name": "stdout",
          "text": [
            "\n",
            "Classification Report:\n",
            "\n",
            "              precision    recall  f1-score   support\n",
            "\n",
            "           0       0.93      0.99      0.96       857\n",
            "           1       0.88      0.55      0.67       143\n",
            "\n",
            "    accuracy                           0.92      1000\n",
            "   macro avg       0.90      0.77      0.81      1000\n",
            "weighted avg       0.92      0.92      0.92      1000\n",
            "\n"
          ]
        }
      ]
    },
    {
      "cell_type": "markdown",
      "metadata": {
        "id": "JT4_32HynhPQ"
      },
      "source": [
        "### SVM (Support Vector Machines)\n"
      ]
    },
    {
      "cell_type": "markdown",
      "metadata": {
        "id": "qlPmOfugKv3Y"
      },
      "source": [
        "### Grid"
      ]
    },
    {
      "cell_type": "code",
      "metadata": {
        "colab": {
          "base_uri": "https://localhost:8080/"
        },
        "id": "-yf2cZ-1oWtz",
        "outputId": "cadaaa60-9edd-4696-cd1e-96fd1bc5e3e2"
      },
      "source": [
        "svcc = SVC()\n",
        "params = {'kernel': ['rbf'], 'C': [1, 10, 100, 1000]}\n",
        "gridsvcc = GridSearchCV(svcc,params,scoring='f1')\n",
        "gridsvcc.fit(X_train, y_train)"
      ],
      "execution_count": null,
      "outputs": [
        {
          "output_type": "execute_result",
          "data": {
            "text/plain": [
              "GridSearchCV(cv=None, error_score=nan,\n",
              "             estimator=SVC(C=1.0, break_ties=False, cache_size=200,\n",
              "                           class_weight=None, coef0=0.0,\n",
              "                           decision_function_shape='ovr', degree=3,\n",
              "                           gamma='scale', kernel='rbf', max_iter=-1,\n",
              "                           probability=False, random_state=None, shrinking=True,\n",
              "                           tol=0.001, verbose=False),\n",
              "             iid='deprecated', n_jobs=None,\n",
              "             param_grid={'C': [1, 10, 100, 1000], 'kernel': ['rbf']},\n",
              "             pre_dispatch='2*n_jobs', refit=True, return_train_score=False,\n",
              "             scoring='f1', verbose=0)"
            ]
          },
          "metadata": {},
          "execution_count": 34
        }
      ]
    },
    {
      "cell_type": "code",
      "metadata": {
        "id": "lnEbdNVbpb4B",
        "colab": {
          "base_uri": "https://localhost:8080/"
        },
        "outputId": "619ad4d4-9c90-4b4b-a7de-762ac72dba2e"
      },
      "source": [
        "gridsvcc.best_params_"
      ],
      "execution_count": null,
      "outputs": [
        {
          "output_type": "execute_result",
          "data": {
            "text/plain": [
              "{'C': 1000, 'kernel': 'rbf'}"
            ]
          },
          "metadata": {},
          "execution_count": 35
        }
      ]
    },
    {
      "cell_type": "code",
      "metadata": {
        "id": "eMKtXXZ81fnj"
      },
      "source": [
        "svcc2 = SVC()\n",
        "\n",
        "params = [{'C': 1000, 'gamma': 0.0001, 'kernel': 'rbf'}]\n",
        "\n",
        "X = df.drop(['account length', 'total day calls', 'total eve calls', 'total eve charge', 'total night minutes', 'total night calls', 'total night charge', 'total intl minutes', 'total intl calls', 'total intl charge', 'churn'], axis=1)\n",
        "y = df['churn']"
      ],
      "execution_count": null,
      "outputs": []
    },
    {
      "cell_type": "markdown",
      "metadata": {
        "id": "255P8koLfIc7"
      },
      "source": [
        "### Cross Validation"
      ]
    },
    {
      "cell_type": "code",
      "metadata": {
        "id": "qtgRndgH2Fw8",
        "colab": {
          "base_uri": "https://localhost:8080/"
        },
        "outputId": "16be081d-1ec0-449b-9c0b-c0f0fe8e7c83"
      },
      "source": [
        "#Cross Validation Score\n",
        "\n",
        "svcc2.fit(X_train,y_train)\n",
        "predict_test_svcc2 = svcc2.predict(X_test)\n",
        "\n",
        "score = cross_val_score(svcc2, X, y, cv=5)\n",
        "print(\"Score : \",score)\n",
        "print(\"Variance : \",format(score.std()**2, 'f'))"
      ],
      "execution_count": null,
      "outputs": [
        {
          "output_type": "stream",
          "name": "stdout",
          "text": [
            "Score :  [0.87706147 0.86806597 0.86506747 0.87537538 0.87087087]\n",
            "Variance :  0.000020\n"
          ]
        }
      ]
    },
    {
      "cell_type": "markdown",
      "metadata": {
        "id": "7B7FTO3ffL9J"
      },
      "source": [
        "### Confusion Matrix and Classification Report"
      ]
    },
    {
      "cell_type": "code",
      "metadata": {
        "id": "apKAXjUy2NUc",
        "colab": {
          "base_uri": "https://localhost:8080/",
          "height": 429
        },
        "outputId": "3e8a17c3-b591-44f8-b2a4-29b37e91d221"
      },
      "source": [
        "#Confusion matrix\n",
        "cm_svcc2 = confusion_matrix(y_test,predict_test_svcc2)\n",
        "\n",
        "#Visualization of Confusion matrix.\n",
        "f, ax = plt.subplots(figsize =(3,3))\n",
        "sns.heatmap(cm_svcc2,annot = True,linewidths=0.5,linecolor=\"red\",fmt = \".0f\",ax=ax)\n",
        "plt.xlabel(\"predictions\")\n",
        "plt.ylabel(\"Actuals\")\n",
        "plt.show()\n",
        "\n",
        "f1_score_svcc2 = f1_score(y_test,predict_test_svcc2)\n",
        "score_svcc2 = svcc2.score(X_test,y_test)\n",
        "\n",
        "#train the model on train set\n",
        "model = RandomForestClassifier()\n",
        "model.fit(X_train, y_train)\n",
        "#print prediction results\n",
        "print()\n",
        "print(\"Classification Report:\")\n",
        "print()  \n",
        "# print prediction results\n",
        "predictions = model.predict(X_test)\n",
        "print(classification_report(y_test, predictions))\n"
      ],
      "execution_count": null,
      "outputs": [
        {
          "output_type": "display_data",
          "data": {
            "image/png": "[encoded data removed]",
            "text/plain": [
              "<Figure size 216x216 with 2 Axes>"
            ]
          },
          "metadata": {
            "needs_background": "light"
          }
        },
        {
          "output_type": "stream",
          "name": "stdout",
          "text": [
            "\n",
            "Classification Report:\n",
            "\n",
            "              precision    recall  f1-score   support\n",
            "\n",
            "           0       0.93      0.99      0.96       857\n",
            "           1       0.88      0.55      0.68       143\n",
            "\n",
            "    accuracy                           0.93      1000\n",
            "   macro avg       0.90      0.77      0.82      1000\n",
            "weighted avg       0.92      0.93      0.92      1000\n",
            "\n"
          ]
        }
      ]
    },
    {
      "cell_type": "markdown",
      "metadata": {
        "id": "7YK3-48J2xav"
      },
      "source": [
        "### Gradient Boosting"
      ]
    },
    {
      "cell_type": "markdown",
      "metadata": {
        "id": "OA744GmyDTUf"
      },
      "source": [
        "Grid"
      ]
    },
    {
      "cell_type": "code",
      "metadata": {
        "id": "XKI5HlZ7-rAY",
        "colab": {
          "base_uri": "https://localhost:8080/"
        },
        "outputId": "de3497eb-480c-4a43-a466-594e406ce4ee"
      },
      "source": [
        "gbc = ensemble.GradientBoostingClassifier()\n",
        "params = {'n_estimators': [100], \n",
        "          'max_depth': [5],\n",
        "          'loss': ['deviance']}\n",
        "\n",
        "gridgbc = GridSearchCV(gbc,params,scoring='f1')\n",
        "gridgbc.fit(X_train, y_train)"
      ],
      "execution_count": null,
      "outputs": [
        {
          "output_type": "execute_result",
          "data": {
            "text/plain": [
              "GridSearchCV(cv=None, error_score=nan,\n",
              "             estimator=GradientBoostingClassifier(ccp_alpha=0.0,\n",
              "                                                  criterion='friedman_mse',\n",
              "                                                  init=None, learning_rate=0.1,\n",
              "                                                  loss='deviance', max_depth=3,\n",
              "                                                  max_features=None,\n",
              "                                                  max_leaf_nodes=None,\n",
              "                                                  min_impurity_decrease=0.0,\n",
              "                                                  min_impurity_split=None,\n",
              "                                                  min_samples_leaf=1,\n",
              "                                                  min_samples_split=2,\n",
              "                                                  min_weight_fraction_leaf=0.0,\n",
              "                                                  n_estimators=100,\n",
              "                                                  n_iter_no_change=None,\n",
              "                                                  presort='deprecated',\n",
              "                                                  random_state=None,\n",
              "                                                  subsample=1.0, tol=0.0001,\n",
              "                                                  validation_fraction=0.1,\n",
              "                                                  verbose=0, warm_start=False),\n",
              "             iid='deprecated', n_jobs=None,\n",
              "             param_grid={'loss': ['deviance'], 'max_depth': [5],\n",
              "                         'n_estimators': [100]},\n",
              "             pre_dispatch='2*n_jobs', refit=True, return_train_score=False,\n",
              "             scoring='f1', verbose=0)"
            ]
          },
          "metadata": {},
          "execution_count": 39
        }
      ]
    },
    {
      "cell_type": "code",
      "metadata": {
        "colab": {
          "base_uri": "https://localhost:8080/"
        },
        "id": "8KfgXuUfhFpQ",
        "outputId": "b8e1bc5f-63a4-4d16-a405-1f0d1b5d682f"
      },
      "source": [
        "gridgbc.best_params_"
      ],
      "execution_count": null,
      "outputs": [
        {
          "output_type": "execute_result",
          "data": {
            "text/plain": [
              "{'loss': 'deviance', 'max_depth': 5, 'n_estimators': 100}"
            ]
          },
          "metadata": {},
          "execution_count": 40
        }
      ]
    },
    {
      "cell_type": "code",
      "metadata": {
        "id": "QVmcVf41Fsx7"
      },
      "source": [
        "# Initialize and fit the model.\n",
        "gb2 = ensemble.GradientBoostingClassifier()\n",
        "\n",
        "params = {'loss': 'deviance', 'max_depth': 5, 'n_estimators': 100}\n",
        "\n",
        "\n",
        "\n",
        "X = df.drop(['account length', 'total day calls', 'total eve calls', 'total eve charge', 'total night minutes', 'total night calls', 'total night charge', 'total intl minutes', 'total intl calls', 'total intl charge', 'churn'], axis=1)\n",
        "y = df['churn']\n",
        "gb2.fit(X_train, y_train)\n",
        "\n",
        "predict_train = gb2.predict(X_train)\n",
        "predict_test = gb2.predict(X_test)\n"
      ],
      "execution_count": null,
      "outputs": []
    },
    {
      "cell_type": "markdown",
      "metadata": {
        "id": "X2T7A6mEkGUH"
      },
      "source": [
        "### Cross Validation Score"
      ]
    },
    {
      "cell_type": "code",
      "metadata": {
        "id": "Atb1UCvrK8QT",
        "colab": {
          "base_uri": "https://localhost:8080/"
        },
        "outputId": "833021d6-7907-4aa0-f605-00bcc4ee41d2"
      },
      "source": [
        "# Cross Validation Score\n",
        "\n",
        "gb2.fit(X_train,y_train)\n",
        "predict_test_gb2 = gb2.predict(X_test)\n",
        "\n",
        "score = cross_val_score(gb2, X, y, cv=5)\n",
        "print(\"Score : \",score)\n",
        "print(\"Variance : \",format(score.std()**2, 'f'))"
      ],
      "execution_count": null,
      "outputs": [
        {
          "output_type": "stream",
          "name": "stdout",
          "text": [
            "Score :  [0.91004498 0.91004498 0.92203898 0.92342342 0.92642643]\n",
            "Variance :  0.000049\n"
          ]
        }
      ]
    },
    {
      "cell_type": "markdown",
      "metadata": {
        "id": "kpTXh5RikIw4"
      },
      "source": [
        "### Confusion Matrix and Classification Report"
      ]
    },
    {
      "cell_type": "code",
      "metadata": {
        "id": "s8LhcpBLLXf4",
        "colab": {
          "base_uri": "https://localhost:8080/",
          "height": 592
        },
        "outputId": "457c24e9-57ec-4bc7-e424-47bc3f8255a6"
      },
      "source": [
        "# Confusion matrix\n",
        "cm_gb2 = confusion_matrix(y_test,predict_test_svcc2)\n",
        "\n",
        "# Visualization of Confusion matrix.\n",
        "f, ax = plt.subplots(figsize =(6,6))\n",
        "sns.heatmap(cm_gb2, annot = True,linewidths=0.5,linecolor=\"red\",fmt = \".0f\",ax=ax)\n",
        "plt.xlabel(\"predictions\")\n",
        "plt.ylabel(\"Actuals\")\n",
        "plt.show()\n",
        "\n",
        "f1_score_gb2 = f1_score(y_test,predict_test_gb2)\n",
        "score_gb2 = gb2.score(X_test,y_test)\n",
        "\n",
        "# train the model on train set\n",
        "model = ensemble.GradientBoostingClassifier()\n",
        "model.fit(X_train, y_train)\n",
        "# print prediction results\n",
        "print()\n",
        "print(\"Classification Report:\")\n",
        "print()  \n",
        "# print prediction results\n",
        "predictions = model.predict(X_test)\n",
        "print(classification_report(y_test, predictions))\n"
      ],
      "execution_count": null,
      "outputs": [
        {
          "output_type": "display_data",
          "data": {
            "image/png": "[encoded data removed]",
            "text/plain": [
              "<Figure size 432x432 with 2 Axes>"
            ]
          },
          "metadata": {
            "needs_background": "light"
          }
        },
        {
          "output_type": "stream",
          "name": "stdout",
          "text": [
            "\n",
            "Classification Report:\n",
            "\n",
            "              precision    recall  f1-score   support\n",
            "\n",
            "           0       0.93      0.99      0.96       857\n",
            "           1       0.91      0.55      0.68       143\n",
            "\n",
            "    accuracy                           0.93      1000\n",
            "   macro avg       0.92      0.77      0.82      1000\n",
            "weighted avg       0.93      0.93      0.92      1000\n",
            "\n"
          ]
        }
      ]
    },
    {
      "cell_type": "markdown",
      "metadata": {
        "id": "z4fVmjJiXUom"
      },
      "source": [
        "### Compare the Models "
      ]
    },
    {
      "cell_type": "code",
      "metadata": {
        "colab": {
          "base_uri": "https://localhost:8080/",
          "height": 520
        },
        "id": "--0ldbebXXME",
        "outputId": "98302736-2749-4aac-c30c-5fdf287c0572"
      },
      "source": [
        "import numpy as np\n",
        "import matplotlib.pyplot as plt\n",
        "\n",
        "# set width of bar\n",
        "barWidth = 0.3\n",
        "fig = plt.subplots(figsize =(12, 8))\n",
        " \n",
        "# set height of bar\n",
        "skb = [0.87, 0.93, 0.92, 0.93, 0.93]\n",
        "\n",
        " \n",
        "# Set position of bar on X axis\n",
        "br1 = np.arange(len(skb))\n",
        "\n",
        "plt.title(\"Accuracy of Models\",fontweight ='bold', fontsize = 15)\n",
        "\n",
        "# Make the plot\n",
        "plt.bar(br1, skb, color ='maroon', width = barWidth,\n",
        "        edgecolor ='grey', label ='Select K Best')\n",
        "\n",
        "# Adding Xticks\n",
        "plt.xlabel('Model', fontweight ='bold', fontsize = 15)\n",
        "plt.ylabel('Accuracy', fontweight ='bold', fontsize = 15)\n",
        "plt.xticks([r + barWidth for r in range(len(skb))],\n",
        "        ['Decision Tree', 'Random Forest', 'KNN', 'SVM', 'Gradient Boost'])\n",
        " \n",
        "plt.show()"
      ],
      "execution_count": null,
      "outputs": [
        {
          "output_type": "display_data",
          "data": {
            "image/png": "[encoded data removed]",
            "text/plain": [
              "<Figure size 864x576 with 1 Axes>"
            ]
          },
          "metadata": {
            "needs_background": "light"
          }
        }
      ]
    },
    {
      "cell_type": "markdown",
      "metadata": {
        "id": "dWNbfQDSXlf2"
      },
      "source": [
        "Seems that all of the models are fairly accurate in predicting churn.  The most accurate being a tie between Random Forest, SVM, and Gradient Boost"
      ]
    },
    {
      "cell_type": "code",
      "metadata": {
        "colab": {
          "base_uri": "https://localhost:8080/",
          "height": 520
        },
        "id": "D3TAfFZlXv_l",
        "outputId": "333e7dd0-5910-4651-a93b-9201d982e4a8"
      },
      "source": [
        "import numpy as np\n",
        "import matplotlib.pyplot as plt\n",
        "\n",
        "# set width of bar\n",
        "barWidth = 0.3\n",
        "fig = plt.subplots(figsize =(12, 8))\n",
        " \n",
        "# set height of bar\n",
        "skbf1 = [0.92, 0.96, 0.95, 0.96, 0.96]\n",
        "\n",
        " \n",
        "# Set position of bar on X axis\n",
        "br1 = np.arange(len(skbf1))\n",
        "\n",
        "plt.title(\"F1 Score of Models\",fontweight ='bold', fontsize = 15)\n",
        "\n",
        "# Make the plot\n",
        "plt.bar(br1, skbf1, color ='maroon', width = barWidth,\n",
        "        edgecolor ='grey', label ='Select K Best')\n",
        "# Adding Xticks\n",
        "plt.xlabel('Model', fontweight ='bold', fontsize = 15)\n",
        "plt.ylabel('F1 Score', fontweight ='bold', fontsize = 15)\n",
        "plt.xticks([r + barWidth for r in range(len(skbf1))],\n",
        "        ['Decision Tree', 'Random Forest', 'KNN', 'SVM', 'Gradient Boost'])\n",
        " \n",
        "plt.show()"
      ],
      "execution_count": null,
      "outputs": [
        {
          "output_type": "display_data",
          "data": {
            "image/png": "[encoded data removed]",
            "text/plain": [
              "<Figure size 864x576 with 1 Axes>"
            ]
          },
          "metadata": {
            "needs_background": "light"
          }
        }
      ]
    },
    {
      "cell_type": "markdown",
      "metadata": {
        "id": "Pvx2BtiwX2yN"
      },
      "source": [
        "In terms of F1 score, it seems that all of them are fairly even, with a tie between Random Fores,t SVM, and Gradient Boost F1 score of 0.96.  "
      ]
    },
    {
      "cell_type": "markdown",
      "metadata": {
        "id": "LD2YMAmvNFTX"
      },
      "source": [
        "### Principal Component Analysis (PCA)"
      ]
    },
    {
      "cell_type": "markdown",
      "metadata": {
        "id": "56QePMzDgUtd"
      },
      "source": [
        "Principal component analysis (PCA) is a technique for reducing the dimensionality of such datasets, increasing interpretability but at the same time minimizing information loss.  \n",
        "\n",
        "In the dataset below, I will be reducing the dimensionality to 2 features."
      ]
    },
    {
      "cell_type": "code",
      "metadata": {
        "id": "TwswAa-6NGZb",
        "colab": {
          "base_uri": "https://localhost:8080/"
        },
        "outputId": "21b534ac-d67c-4f30-acb0-509ad058d23a"
      },
      "source": [
        "from sklearn.preprocessing import StandardScaler\n",
        "Scaler = StandardScaler()\n",
        "Scaler.fit(df)\n"
      ],
      "execution_count": null,
      "outputs": [
        {
          "output_type": "execute_result",
          "data": {
            "text/plain": [
              "StandardScaler(copy=True, with_mean=True, with_std=True)"
            ]
          },
          "metadata": {},
          "execution_count": 46
        }
      ]
    },
    {
      "cell_type": "code",
      "metadata": {
        "id": "JFQbnE-aM8NQ"
      },
      "source": [
        "scaledData = Scaler.transform(df)"
      ],
      "execution_count": null,
      "outputs": []
    },
    {
      "cell_type": "code",
      "metadata": {
        "id": "Gn0903fMNHDU",
        "colab": {
          "base_uri": "https://localhost:8080/"
        },
        "outputId": "c072e901-cb8b-4c03-de96-fa13d6a653c4"
      },
      "source": [
        "scaledData"
      ],
      "execution_count": null,
      "outputs": [
        {
          "output_type": "execute_result",
          "data": {
            "text/plain": [
              "array([[ 0.67648946,  1.23488274,  1.56676695, ..., -0.0856905 ,\n",
              "        -0.42793202, -0.41167182],\n",
              "       [ 0.14906505,  1.30794844, -0.33373776, ...,  1.2411686 ,\n",
              "        -0.42793202, -0.41167182],\n",
              "       [ 0.9025285 , -0.59175986,  1.16830364, ...,  0.69715637,\n",
              "        -1.1882185 , -0.41167182],\n",
              "       ...,\n",
              "       [-1.83505538, -0.59175986,  0.01881963, ...,  1.3871231 ,\n",
              "         0.33235445, -0.41167182],\n",
              "       [ 2.08295458, -0.59175986,  0.62477766, ..., -1.87695028,\n",
              "         0.33235445, -0.41167182],\n",
              "       [-0.67974475,  1.23488274,  1.00304237, ...,  1.2411686 ,\n",
              "        -1.1882185 , -0.41167182]])"
            ]
          },
          "metadata": {},
          "execution_count": 48
        }
      ]
    },
    {
      "cell_type": "code",
      "metadata": {
        "id": "SpZ19-0INNnL"
      },
      "source": [
        "from sklearn.decomposition import PCA\n",
        "\n",
        "pca = PCA(n_components=2)"
      ],
      "execution_count": null,
      "outputs": []
    },
    {
      "cell_type": "code",
      "metadata": {
        "id": "s4ZSkYYRNTLa"
      },
      "source": [
        "pca_xnew = pca.fit(scaledData)"
      ],
      "execution_count": null,
      "outputs": []
    },
    {
      "cell_type": "code",
      "metadata": {
        "id": "8x4Y5iGbNzZv"
      },
      "source": [
        "x_pca = pca.transform(scaledData)"
      ],
      "execution_count": null,
      "outputs": []
    },
    {
      "cell_type": "code",
      "metadata": {
        "colab": {
          "base_uri": "https://localhost:8080/"
        },
        "id": "l68JKXOiOEwA",
        "outputId": "6cc4cd7e-3304-4ac6-b4c4-8e02f41bd8e7"
      },
      "source": [
        "scaledData.shape"
      ],
      "execution_count": null,
      "outputs": [
        {
          "output_type": "execute_result",
          "data": {
            "text/plain": [
              "(3333, 16)"
            ]
          },
          "metadata": {},
          "execution_count": 52
        }
      ]
    },
    {
      "cell_type": "code",
      "metadata": {
        "colab": {
          "base_uri": "https://localhost:8080/"
        },
        "id": "xBqDgDMlOHHf",
        "outputId": "488b1b01-a558-4fc8-aba7-d6fb7b79a63f"
      },
      "source": [
        "x_pca.shape"
      ],
      "execution_count": null,
      "outputs": [
        {
          "output_type": "execute_result",
          "data": {
            "text/plain": [
              "(3333, 2)"
            ]
          },
          "metadata": {},
          "execution_count": 53
        }
      ]
    },
    {
      "cell_type": "code",
      "metadata": {
        "colab": {
          "base_uri": "https://localhost:8080/"
        },
        "id": "BNQI260gOj07",
        "outputId": "414d8595-470b-4359-95d4-1fd9a01d5048"
      },
      "source": [
        "scaledData"
      ],
      "execution_count": null,
      "outputs": [
        {
          "output_type": "execute_result",
          "data": {
            "text/plain": [
              "array([[ 0.67648946,  1.23488274,  1.56676695, ..., -0.0856905 ,\n",
              "        -0.42793202, -0.41167182],\n",
              "       [ 0.14906505,  1.30794844, -0.33373776, ...,  1.2411686 ,\n",
              "        -0.42793202, -0.41167182],\n",
              "       [ 0.9025285 , -0.59175986,  1.16830364, ...,  0.69715637,\n",
              "        -1.1882185 , -0.41167182],\n",
              "       ...,\n",
              "       [-1.83505538, -0.59175986,  0.01881963, ...,  1.3871231 ,\n",
              "         0.33235445, -0.41167182],\n",
              "       [ 2.08295458, -0.59175986,  0.62477766, ..., -1.87695028,\n",
              "         0.33235445, -0.41167182],\n",
              "       [-0.67974475,  1.23488274,  1.00304237, ...,  1.2411686 ,\n",
              "        -1.1882185 , -0.41167182]])"
            ]
          },
          "metadata": {},
          "execution_count": 54
        }
      ]
    },
    {
      "cell_type": "code",
      "metadata": {
        "colab": {
          "base_uri": "https://localhost:8080/"
        },
        "id": "EtxAVFUtOj3l",
        "outputId": "a5ce3596-a8fd-4894-986b-bebd856c941f"
      },
      "source": [
        "x_pca"
      ],
      "execution_count": null,
      "outputs": [
        {
          "output_type": "execute_result",
          "data": {
            "text/plain": [
              "array([[ 1.82175471, -1.07849009],\n",
              "       [-0.49670389, -0.01806575],\n",
              "       [ 0.15424116,  0.75011737],\n",
              "       ...,\n",
              "       [ 0.82836033,  2.0617294 ],\n",
              "       [ 0.10424441, -0.7620822 ],\n",
              "       [ 1.82651502,  0.72715559]])"
            ]
          },
          "metadata": {},
          "execution_count": 55
        }
      ]
    },
    {
      "cell_type": "code",
      "metadata": {
        "id": "FBwnBWtOQtIV"
      },
      "source": [
        "# Filter out features irrelevant to my target coiumn\n",
        "# Split df into x and Y\n",
        "target_col = \"churn\"\n",
        "X2 = x_pca\n",
        "y2 = df['churn']\n",
        "\n",
        "# Split the data into train and test with 70% data being used for training\n",
        "X2_train, X2_test, y2_train, y2_test = train_test_split(X2, y2, \n",
        "                                                    test_size=0.30, \n",
        "                                                    random_state=42)\n"
      ],
      "execution_count": null,
      "outputs": []
    },
    {
      "cell_type": "markdown",
      "metadata": {
        "id": "xlD0khKKQft0"
      },
      "source": [
        "### Decision Tree with PCA"
      ]
    },
    {
      "cell_type": "markdown",
      "metadata": {
        "id": "PFPFCo98YRS0"
      },
      "source": [
        "### Grid "
      ]
    },
    {
      "cell_type": "code",
      "metadata": {
        "id": "c7KGxwqOQhAI"
      },
      "source": [
        "dtc2 = DecisionTreeClassifier()\n",
        "\n",
        "params = {\n",
        "'criterion': ['gini'],\n",
        "'min_samples_leaf': range(1,10),\n",
        "'max_depth': range(1,10)\n",
        "}\n",
        "\n",
        "gridTreePCA = GridSearchCV(estimator=dtc2,param_grid=params, scoring='f1')"
      ],
      "execution_count": null,
      "outputs": []
    },
    {
      "cell_type": "code",
      "metadata": {
        "colab": {
          "base_uri": "https://localhost:8080/"
        },
        "id": "BdPI44pbQhCP",
        "outputId": "71a3b063-23bc-458f-9de2-43128954a2d3"
      },
      "source": [
        "dtc.fit(X2_train, y2_train)\n"
      ],
      "execution_count": null,
      "outputs": [
        {
          "output_type": "execute_result",
          "data": {
            "text/plain": [
              "DecisionTreeClassifier(ccp_alpha=0.0, class_weight=None, criterion='gini',\n",
              "                       max_depth=None, max_features=None, max_leaf_nodes=None,\n",
              "                       min_impurity_decrease=0.0, min_impurity_split=None,\n",
              "                       min_samples_leaf=1, min_samples_split=2,\n",
              "                       min_weight_fraction_leaf=0.0, presort='deprecated',\n",
              "                       random_state=None, splitter='best')"
            ]
          },
          "metadata": {},
          "execution_count": 58
        }
      ]
    },
    {
      "cell_type": "code",
      "metadata": {
        "colab": {
          "base_uri": "https://localhost:8080/"
        },
        "id": "QlrK4_GWYA9m",
        "outputId": "d0b97616-6325-4f3e-f701-29c1bceb961c"
      },
      "source": [
        "gridTreePCA.fit(X2_train, y2_train)"
      ],
      "execution_count": null,
      "outputs": [
        {
          "output_type": "execute_result",
          "data": {
            "text/plain": [
              "GridSearchCV(cv=None, error_score=nan,\n",
              "             estimator=DecisionTreeClassifier(ccp_alpha=0.0, class_weight=None,\n",
              "                                              criterion='gini', max_depth=None,\n",
              "                                              max_features=None,\n",
              "                                              max_leaf_nodes=None,\n",
              "                                              min_impurity_decrease=0.0,\n",
              "                                              min_impurity_split=None,\n",
              "                                              min_samples_leaf=1,\n",
              "                                              min_samples_split=2,\n",
              "                                              min_weight_fraction_leaf=0.0,\n",
              "                                              presort='deprecated',\n",
              "                                              random_state=None,\n",
              "                                              splitter='best'),\n",
              "             iid='deprecated', n_jobs=None,\n",
              "             param_grid={'criterion': ['gini'], 'max_depth': range(1, 10),\n",
              "                         'min_samples_leaf': range(1, 10)},\n",
              "             pre_dispatch='2*n_jobs', refit=True, return_train_score=False,\n",
              "             scoring='f1', verbose=0)"
            ]
          },
          "metadata": {},
          "execution_count": 59
        }
      ]
    },
    {
      "cell_type": "code",
      "metadata": {
        "colab": {
          "base_uri": "https://localhost:8080/"
        },
        "id": "2OUPoZ3aQhEf",
        "outputId": "b58e6247-06f7-4684-fa77-da146fb01ad7"
      },
      "source": [
        "gridTreePCA.best_params_"
      ],
      "execution_count": null,
      "outputs": [
        {
          "output_type": "execute_result",
          "data": {
            "text/plain": [
              "{'criterion': 'gini', 'max_depth': 3, 'min_samples_leaf': 9}"
            ]
          },
          "metadata": {},
          "execution_count": 60
        }
      ]
    },
    {
      "cell_type": "markdown",
      "metadata": {
        "id": "_Hbazu-BYWIN"
      },
      "source": [
        "### Cross Validation"
      ]
    },
    {
      "cell_type": "code",
      "metadata": {
        "colab": {
          "base_uri": "https://localhost:8080/"
        },
        "id": "pVnf7QtXQhHS",
        "outputId": "5daef809-2456-45cb-fd02-28d4a3fc4d9a"
      },
      "source": [
        "# Decision model with cross validation.\n",
        "\n",
        "# Initialize and train our tree.\n",
        "decision_tree = tree.DecisionTreeClassifier(\n",
        "    criterion='gini',\n",
        "    min_samples_leaf = 1,\n",
        "    max_depth= 1\n",
        ")\n",
        "decision_tree.fit(X2, y2)\n",
        "predict_test_dct = decision_tree.predict(X2_test)\n",
        "\n",
        "# Render our tree.\n",
        "dot_data = tree.export_graphviz(\n",
        "    decision_tree, out_file=None,\n",
        "    class_names=['Churn', 'Did Not Churn'],\n",
        "    filled=True\n",
        ")\n",
        "score = cross_val_score(decision_tree, X2, y2, cv=5)\n",
        "print(\"Score : \",score)\n",
        "print(\"Variance : \", format(score.std()**2, 'f'))\n"
      ],
      "execution_count": null,
      "outputs": [
        {
          "output_type": "stream",
          "name": "stdout",
          "text": [
            "Score :  [0.91004498 0.90104948 0.91454273 0.90990991 0.91441441]\n",
            "Variance :  0.000024\n"
          ]
        }
      ]
    },
    {
      "cell_type": "markdown",
      "metadata": {
        "id": "3NIfOA_6ZAZf"
      },
      "source": [
        "### Confusion Matrix & Classification Report"
      ]
    },
    {
      "cell_type": "code",
      "metadata": {
        "colab": {
          "base_uri": "https://localhost:8080/"
        },
        "id": "TlqbQanIQhJ3",
        "outputId": "e7f206e6-c432-427f-e2d0-c1f73dd151af"
      },
      "source": [
        "# Confusion matrix\n",
        "cm_dct = confusion_matrix(y2_test,predict_test_dct)\n",
        "\n",
        "# Visualization of Confusion matrix.\n",
        "f, ax = plt.subplots(figsize =(6,6))\n",
        "sns.heatmap(cm_dct,annot = True,linewidths=0.5,linecolor=\"red\",fmt = \".0f\",ax=ax)\n",
        "plt.xlabel(\"predictions\")\n",
        "plt.ylabel(\"Actuals\")\n",
        "plt.show()\n",
        "\n",
        "f1_score_dct = f1_score(y2_test,predict_test_dct)\n",
        "score_dct = decision_tree.score(X2_test,y2_test)\n",
        "\n",
        "# train the model on train set\n",
        "model = DecisionTreeClassifier()\n",
        "model.fit(X2_train, y2_train)\n",
        "  \n",
        "# print prediction results\n",
        "predictions = model.predict(X2_test)\n",
        "print()\n",
        "print(\"Classification Report\")\n",
        "print()\n",
        "print(classification_report(y2_test, predictions))\n",
        "\n"
      ],
      "execution_count": null,
      "outputs": [
        {
          "output_type": "display_data",
          "data": {
            "image/png": "[encoded data removed]",
            "text/plain": [
              "<Figure size 432x432 with 2 Axes>"
            ]
          },
          "metadata": {
            "needs_background": "light"
          }
        },
        {
          "output_type": "stream",
          "name": "stdout",
          "text": [
            "\n",
            "Classification Report\n",
            "\n",
            "              precision    recall  f1-score   support\n",
            "\n",
            "           0       0.92      0.91      0.92       857\n",
            "           1       0.50      0.54      0.52       143\n",
            "\n",
            "    accuracy                           0.86      1000\n",
            "   macro avg       0.71      0.72      0.72      1000\n",
            "weighted avg       0.86      0.86      0.86      1000\n",
            "\n"
          ]
        }
      ]
    },
    {
      "cell_type": "markdown",
      "metadata": {
        "id": "xjb8Oxhxa7PJ"
      },
      "source": [
        "### Random Forest with PCA"
      ]
    },
    {
      "cell_type": "markdown",
      "metadata": {
        "id": "Ods3S9kSa_PI"
      },
      "source": [
        "### Grid Search"
      ]
    },
    {
      "cell_type": "code",
      "metadata": {
        "id": "x8OKUDdia-jQ"
      },
      "source": [
        "from sklearn import ensemble\n",
        "\n",
        "rfc2 = ensemble.RandomForestClassifier()\n",
        "\n",
        "params = {\n",
        "    'criterion':['entropy','gini'],\n",
        "    'max_depth':[3,4,7],\n",
        "    'class_weight':['balanced','balanced_subsample']\n",
        "}\n",
        "gridRFC2 = GridSearchCV(rfc2,params,scoring='f1')\n",
        "\n"
      ],
      "execution_count": null,
      "outputs": []
    },
    {
      "cell_type": "code",
      "metadata": {
        "colab": {
          "base_uri": "https://localhost:8080/"
        },
        "id": "o0GP4G0YbY0Q",
        "outputId": "5754fd05-a0a9-4034-c9e5-2432a3e804d7"
      },
      "source": [
        "gridRFC2.fit(X2_train, y2_train)"
      ],
      "execution_count": null,
      "outputs": [
        {
          "output_type": "execute_result",
          "data": {
            "text/plain": [
              "GridSearchCV(cv=None, error_score=nan,\n",
              "             estimator=RandomForestClassifier(bootstrap=True, ccp_alpha=0.0,\n",
              "                                              class_weight=None,\n",
              "                                              criterion='gini', max_depth=None,\n",
              "                                              max_features='auto',\n",
              "                                              max_leaf_nodes=None,\n",
              "                                              max_samples=None,\n",
              "                                              min_impurity_decrease=0.0,\n",
              "                                              min_impurity_split=None,\n",
              "                                              min_samples_leaf=1,\n",
              "                                              min_samples_split=2,\n",
              "                                              min_weight_fraction_leaf=0.0,\n",
              "                                              n_estimators=100, n_jobs=None,\n",
              "                                              oob_score=False,\n",
              "                                              random_state=None, verbose=0,\n",
              "                                              warm_start=False),\n",
              "             iid='deprecated', n_jobs=None,\n",
              "             param_grid={'class_weight': ['balanced', 'balanced_subsample'],\n",
              "                         'criterion': ['entropy', 'gini'],\n",
              "                         'max_depth': [3, 4, 7]},\n",
              "             pre_dispatch='2*n_jobs', refit=True, return_train_score=False,\n",
              "             scoring='f1', verbose=0)"
            ]
          },
          "metadata": {},
          "execution_count": 64
        }
      ]
    },
    {
      "cell_type": "code",
      "metadata": {
        "colab": {
          "base_uri": "https://localhost:8080/"
        },
        "id": "_T6eqT7hbgeS",
        "outputId": "cd7670b3-9f38-4623-9ec3-ac3fc0126ccf"
      },
      "source": [
        "gridRFC2.best_params_"
      ],
      "execution_count": null,
      "outputs": [
        {
          "output_type": "execute_result",
          "data": {
            "text/plain": [
              "{'class_weight': 'balanced', 'criterion': 'entropy', 'max_depth': 3}"
            ]
          },
          "metadata": {},
          "execution_count": 65
        }
      ]
    },
    {
      "cell_type": "markdown",
      "metadata": {
        "id": "LbDAdTRpbmw6"
      },
      "source": [
        "### Cross Validation"
      ]
    },
    {
      "cell_type": "code",
      "metadata": {
        "colab": {
          "base_uri": "https://localhost:8080/"
        },
        "id": "XChy7ZUBboDa",
        "outputId": "a1f35d05-de92-4aeb-888f-a264afffdaa9"
      },
      "source": [
        "rfc2 = ensemble.RandomForestClassifier()\n",
        "params = {'class_weight': 'balanced_subsample', 'criterion': 'entropy', 'max_depth': 3}\n",
        "\n",
        "rfc2.fit(X2_train,y2_train)\n",
        "predict_test_rfc = rfc2.predict(X2_test)\n",
        "\n",
        "score = cross_val_score(rfc2, X2, y2, cv=5)\n",
        "print(\"Cross validation Score : \",score)\n",
        "print(\"Variance : \",format(score.std()**2, 'f'))"
      ],
      "execution_count": null,
      "outputs": [
        {
          "output_type": "stream",
          "name": "stdout",
          "text": [
            "Cross validation Score :  [0.90404798 0.89955022 0.90404798 0.9024024  0.90690691]\n",
            "Variance :  0.000006\n"
          ]
        }
      ]
    },
    {
      "cell_type": "markdown",
      "metadata": {
        "id": "KX3oQNAVcJj8"
      },
      "source": [
        "### Confusion Matrix and Classification Report"
      ]
    },
    {
      "cell_type": "code",
      "metadata": {
        "colab": {
          "base_uri": "https://localhost:8080/",
          "height": 538
        },
        "id": "VWlfonErboMF",
        "outputId": "3ec0064b-3f3c-4512-fa2e-c40cf57a3416"
      },
      "source": [
        "# Confusion matrix\n",
        "cm_rfc2 = confusion_matrix(y2_test,predict_test_rfc)\n",
        "\n",
        "# Visualization of Confusion matrix.\n",
        "f, ax = plt.subplots(figsize =(5,5))\n",
        "sns.heatmap(cm_rfc2,annot = True,linewidths=0.5,linecolor=\"red\",fmt = \".0f\",ax=ax)\n",
        "plt.xlabel(\"predictions\")\n",
        "plt.ylabel(\"Actuals\")\n",
        "plt.show()\n",
        "\n",
        "f1_score_rfc = f1_score(y2_test,predict_test_rfc)\n",
        "score_rfc = rfc2.score(X2_test,y2_test)\n",
        "\n",
        "# train the model on train set\n",
        "model = RandomForestClassifier()\n",
        "model.fit(X2_train, y2_train)\n",
        "# print prediction results\n",
        "print()\n",
        "print(\"Classification Report:\")\n",
        "print()  \n",
        "# print prediction results\n",
        "predictions = model.predict(X2_test)\n",
        "print(classification_report(y2_test, predictions))\n"
      ],
      "execution_count": null,
      "outputs": [
        {
          "output_type": "display_data",
          "data": {
            "image/png": "[encoded data removed]",
            "text/plain": [
              "<Figure size 360x360 with 2 Axes>"
            ]
          },
          "metadata": {
            "needs_background": "light"
          }
        },
        {
          "output_type": "stream",
          "name": "stdout",
          "text": [
            "\n",
            "Classification Report:\n",
            "\n",
            "              precision    recall  f1-score   support\n",
            "\n",
            "           0       0.92      0.98      0.95       857\n",
            "           1       0.80      0.50      0.61       143\n",
            "\n",
            "    accuracy                           0.91      1000\n",
            "   macro avg       0.86      0.74      0.78      1000\n",
            "weighted avg       0.90      0.91      0.90      1000\n",
            "\n"
          ]
        }
      ]
    },
    {
      "cell_type": "markdown",
      "metadata": {
        "id": "IPfjedhNcm89"
      },
      "source": [
        "### K Nearest Neighbor Classification with PCA"
      ]
    },
    {
      "cell_type": "code",
      "metadata": {
        "id": "_3X6_Rj1boOz"
      },
      "source": [
        "# KNN Regression model with cross validation.\n",
        "\n",
        "knncPCA = neighbors.KNeighborsClassifier()\n",
        "\n",
        "params = {\n",
        "    'n_neighbors' : [2,3,5,7,10],\n",
        "    'weights' : ['uniform','distance']\n",
        "}\n",
        "gridknncPCA = GridSearchCV(estimator=knncPCA,param_grid=params,scoring='neg_root_mean_squared_error')"
      ],
      "execution_count": null,
      "outputs": []
    },
    {
      "cell_type": "code",
      "metadata": {
        "colab": {
          "base_uri": "https://localhost:8080/"
        },
        "id": "V2WmZ3NMboRG",
        "outputId": "5e3e2e2f-aee3-4662-95ef-3441bafbb45f"
      },
      "source": [
        "gridknncPCA.fit(X2_train, y2_train)"
      ],
      "execution_count": null,
      "outputs": [
        {
          "output_type": "execute_result",
          "data": {
            "text/plain": [
              "GridSearchCV(cv=None, error_score=nan,\n",
              "             estimator=KNeighborsClassifier(algorithm='auto', leaf_size=30,\n",
              "                                            metric='minkowski',\n",
              "                                            metric_params=None, n_jobs=None,\n",
              "                                            n_neighbors=5, p=2,\n",
              "                                            weights='uniform'),\n",
              "             iid='deprecated', n_jobs=None,\n",
              "             param_grid={'n_neighbors': [2, 3, 5, 7, 10],\n",
              "                         'weights': ['uniform', 'distance']},\n",
              "             pre_dispatch='2*n_jobs', refit=True, return_train_score=False,\n",
              "             scoring='neg_root_mean_squared_error', verbose=0)"
            ]
          },
          "metadata": {},
          "execution_count": 69
        }
      ]
    },
    {
      "cell_type": "code",
      "metadata": {
        "colab": {
          "base_uri": "https://localhost:8080/"
        },
        "id": "YLqdKwnTboUB",
        "outputId": "41711f17-ea3a-46c8-edde-1e4b9c6795db"
      },
      "source": [
        "gridknncPCA.best_params_\n"
      ],
      "execution_count": null,
      "outputs": [
        {
          "output_type": "execute_result",
          "data": {
            "text/plain": [
              "{'n_neighbors': 10, 'weights': 'uniform'}"
            ]
          },
          "metadata": {},
          "execution_count": 70
        }
      ]
    },
    {
      "cell_type": "markdown",
      "metadata": {
        "id": "NdyHUakFdgdT"
      },
      "source": [
        "### Cross Validation"
      ]
    },
    {
      "cell_type": "code",
      "metadata": {
        "colab": {
          "base_uri": "https://localhost:8080/"
        },
        "id": "39B4njB7boV5",
        "outputId": "6daef5d3-2e71-4e78-dbad-2978578fb808"
      },
      "source": [
        "# Cross Validation Score\n",
        "\n",
        "knncPCA.fit(X2_train,y2_train)\n",
        "predict_test_knnc2 = knncPCA.predict(X2_test)\n",
        "\n",
        "score = cross_val_score(knnc2, X2, y2, cv=5)\n",
        "print(\"Score : \",score)\n",
        "print(\"Variance : \",format(score.std()**2, 'f'))"
      ],
      "execution_count": null,
      "outputs": [
        {
          "output_type": "stream",
          "name": "stdout",
          "text": [
            "Score :  [0.91154423 0.89505247 0.90554723 0.91291291 0.91141141]\n",
            "Variance :  0.000044\n"
          ]
        }
      ]
    },
    {
      "cell_type": "markdown",
      "metadata": {
        "id": "l96j0f5yd2Ss"
      },
      "source": [
        "### Confusion Matrix and Classification Report"
      ]
    },
    {
      "cell_type": "code",
      "metadata": {
        "colab": {
          "base_uri": "https://localhost:8080/",
          "height": 429
        },
        "id": "yoJ9mZW4boYb",
        "outputId": "6dc5da33-2b83-477f-817a-16aa2319a722"
      },
      "source": [
        "# Confusion matrix\n",
        "cm_knncPCA = confusion_matrix(y2_test,predict_test_knnc2)\n",
        "\n",
        "# Visualization of Confusion matrix.\n",
        "f, ax = plt.subplots(figsize =(3,3))\n",
        "sns.heatmap(cm_knncPCA,annot = True,linewidths=0.5,linecolor=\"red\",fmt = \".0f\",ax=ax)\n",
        "plt.xlabel(\"predictions\")\n",
        "plt.ylabel(\"Actuals\")\n",
        "plt.show()\n",
        "\n",
        "f1_score_knnc2 = f1_score(y2_test,predict_test_knnc2)\n",
        "score_knnc2 = knncPCA.score(X2_test,y2_test)\n",
        "\n",
        "# train the model on train set\n",
        "model = neighbors.KNeighborsClassifier()\n",
        "model.fit(X2_train, y2_train)\n",
        "# print prediction results\n",
        "print()\n",
        "print(\"Classification Report:\")\n",
        "print()  \n",
        "# print prediction results\n",
        "predictions = model.predict(X2_test)\n",
        "print(classification_report(y2_test, predictions))\n"
      ],
      "execution_count": null,
      "outputs": [
        {
          "output_type": "display_data",
          "data": {
            "image/png": "[encoded data removed]",
            "text/plain": [
              "<Figure size 216x216 with 2 Axes>"
            ]
          },
          "metadata": {
            "needs_background": "light"
          }
        },
        {
          "output_type": "stream",
          "name": "stdout",
          "text": [
            "\n",
            "Classification Report:\n",
            "\n",
            "              precision    recall  f1-score   support\n",
            "\n",
            "           0       0.92      0.98      0.95       857\n",
            "           1       0.83      0.51      0.63       143\n",
            "\n",
            "    accuracy                           0.92      1000\n",
            "   macro avg       0.88      0.75      0.79      1000\n",
            "weighted avg       0.91      0.92      0.91      1000\n",
            "\n"
          ]
        }
      ]
    },
    {
      "cell_type": "markdown",
      "metadata": {
        "id": "px3wg8-4eJuG"
      },
      "source": [
        "### SVM (Support Vector Machine) with PCA"
      ]
    },
    {
      "cell_type": "markdown",
      "metadata": {
        "id": "k1u2FLeEeO3E"
      },
      "source": [
        "### Grid Search"
      ]
    },
    {
      "cell_type": "code",
      "metadata": {
        "colab": {
          "base_uri": "https://localhost:8080/"
        },
        "id": "K8NfIRfjeRWY",
        "outputId": "a5c3aeeb-66b2-4c04-fea2-cb28531471e0"
      },
      "source": [
        "svccPCA = SVC()\n",
        "params = {'kernel': ['rbf'], 'C': [1, 10, 100, 1000]}\n",
        "gridsvccPCA = GridSearchCV(svccPCA,params,scoring='f1')\n",
        "gridsvccPCA.fit(X2_train, y2_train)"
      ],
      "execution_count": null,
      "outputs": [
        {
          "output_type": "execute_result",
          "data": {
            "text/plain": [
              "GridSearchCV(cv=None, error_score=nan,\n",
              "             estimator=SVC(C=1.0, break_ties=False, cache_size=200,\n",
              "                           class_weight=None, coef0=0.0,\n",
              "                           decision_function_shape='ovr', degree=3,\n",
              "                           gamma='scale', kernel='rbf', max_iter=-1,\n",
              "                           probability=False, random_state=None, shrinking=True,\n",
              "                           tol=0.001, verbose=False),\n",
              "             iid='deprecated', n_jobs=None,\n",
              "             param_grid={'C': [1, 10, 100, 1000], 'kernel': ['rbf']},\n",
              "             pre_dispatch='2*n_jobs', refit=True, return_train_score=False,\n",
              "             scoring='f1', verbose=0)"
            ]
          },
          "metadata": {},
          "execution_count": 73
        }
      ]
    },
    {
      "cell_type": "code",
      "metadata": {
        "colab": {
          "base_uri": "https://localhost:8080/"
        },
        "id": "dYaWKTwEe9P3",
        "outputId": "1f63e3ab-71fd-4a11-fda7-e36cbfac76f9"
      },
      "source": [
        "gridsvccPCA.best_params_"
      ],
      "execution_count": null,
      "outputs": [
        {
          "output_type": "execute_result",
          "data": {
            "text/plain": [
              "{'C': 1000, 'kernel': 'rbf'}"
            ]
          },
          "metadata": {},
          "execution_count": 74
        }
      ]
    },
    {
      "cell_type": "code",
      "metadata": {
        "id": "Mov_BAh3kwf_"
      },
      "source": [
        "svccPCA = SVC()\n",
        "params = [{'C': 1000, 'kernel': 'rbf'}]\n"
      ],
      "execution_count": null,
      "outputs": []
    },
    {
      "cell_type": "markdown",
      "metadata": {
        "id": "5CtBwimbeO9T"
      },
      "source": [
        "### Cross Validation"
      ]
    },
    {
      "cell_type": "code",
      "metadata": {
        "colab": {
          "base_uri": "https://localhost:8080/"
        },
        "id": "TVB8RZfOeN9d",
        "outputId": "8f9d4ba0-034f-4c1a-8e4a-9a6c000df1ab"
      },
      "source": [
        "#Cross Validation Score\n",
        "\n",
        "svccPCA.fit(X2_train,y2_train)\n",
        "predict_test_svcc2 = svccPCA.predict(X2_test)\n",
        "\n",
        "score = cross_val_score(svccPCA, X2, y2, cv=5)\n",
        "print(\"Score : \",score)\n",
        "print(\"Variance : \",format(score.std()**2, 'f'))"
      ],
      "execution_count": null,
      "outputs": [
        {
          "output_type": "stream",
          "name": "stdout",
          "text": [
            "Score :  [0.91004498 0.90104948 0.91154423 0.91441441 0.91291291]\n",
            "Variance :  0.000022\n"
          ]
        }
      ]
    },
    {
      "cell_type": "markdown",
      "metadata": {
        "id": "FYJwaX05fCQu"
      },
      "source": [
        "### Confusion Matrix and Classification Report"
      ]
    },
    {
      "cell_type": "code",
      "metadata": {
        "colab": {
          "base_uri": "https://localhost:8080/",
          "height": 429
        },
        "id": "zWgo9OHnfnJ1",
        "outputId": "6e71c7ea-c9fc-454a-9516-d0ea21387381"
      },
      "source": [
        "#Confusion matrix\n",
        "cm_svccPCA = confusion_matrix(y2_test,predict_test_svcc2)\n",
        "\n",
        "#Visualization of Confusion matrix.\n",
        "f, ax = plt.subplots(figsize =(3,3))\n",
        "sns.heatmap(cm_svccPCA,annot = True,linewidths=0.5,linecolor=\"red\",fmt = \".0f\",ax=ax)\n",
        "plt.xlabel(\"predictions\")\n",
        "plt.ylabel(\"Actuals\")\n",
        "plt.show()\n",
        "\n",
        "f1_score_svcc2 = f1_score(y2_test,predict_test_svcc2)\n",
        "score_svcc2 = svccPCA.score(X2_test,y2_test)\n",
        "\n",
        "#train the model on train set\n",
        "model = SVC()\n",
        "model.fit(X2_train, y2_train)\n",
        "#print prediction results\n",
        "print()\n",
        "print(\"Classification Report:\")\n",
        "print()  \n",
        "# print prediction results\n",
        "predictions = model.predict(X2_test)\n",
        "print(classification_report(y2_test, predictions))\n"
      ],
      "execution_count": null,
      "outputs": [
        {
          "output_type": "display_data",
          "data": {
            "image/png": "[encoded data removed]",
            "text/plain": [
              "<Figure size 216x216 with 2 Axes>"
            ]
          },
          "metadata": {
            "needs_background": "light"
          }
        },
        {
          "output_type": "stream",
          "name": "stdout",
          "text": [
            "\n",
            "Classification Report:\n",
            "\n",
            "              precision    recall  f1-score   support\n",
            "\n",
            "           0       0.92      1.00      0.96       857\n",
            "           1       0.96      0.48      0.64       143\n",
            "\n",
            "    accuracy                           0.92      1000\n",
            "   macro avg       0.94      0.74      0.80      1000\n",
            "weighted avg       0.92      0.92      0.91      1000\n",
            "\n"
          ]
        }
      ]
    },
    {
      "cell_type": "markdown",
      "metadata": {
        "id": "72dlErjtgNug"
      },
      "source": [
        "### Gradient Boosting Classifier "
      ]
    },
    {
      "cell_type": "markdown",
      "metadata": {
        "id": "zcH0FGnfgltO"
      },
      "source": [
        "## Grid"
      ]
    },
    {
      "cell_type": "code",
      "metadata": {
        "colab": {
          "base_uri": "https://localhost:8080/"
        },
        "id": "dIaRelPygSW3",
        "outputId": "3937559f-34c0-4db6-b488-cd7c73a3e04c"
      },
      "source": [
        "gbcPCA = ensemble.GradientBoostingClassifier()\n",
        "params = {'n_estimators': [100], \n",
        "          'max_depth': [5],\n",
        "          'loss': ['deviance']}\n",
        "\n",
        "gridgbcPCA = GridSearchCV(gbcPCA,params,scoring='f1')\n",
        "gridgbcPCA.fit(X2_train, y2_train)"
      ],
      "execution_count": null,
      "outputs": [
        {
          "output_type": "execute_result",
          "data": {
            "text/plain": [
              "GridSearchCV(cv=None, error_score=nan,\n",
              "             estimator=GradientBoostingClassifier(ccp_alpha=0.0,\n",
              "                                                  criterion='friedman_mse',\n",
              "                                                  init=None, learning_rate=0.1,\n",
              "                                                  loss='deviance', max_depth=3,\n",
              "                                                  max_features=None,\n",
              "                                                  max_leaf_nodes=None,\n",
              "                                                  min_impurity_decrease=0.0,\n",
              "                                                  min_impurity_split=None,\n",
              "                                                  min_samples_leaf=1,\n",
              "                                                  min_samples_split=2,\n",
              "                                                  min_weight_fraction_leaf=0.0,\n",
              "                                                  n_estimators=100,\n",
              "                                                  n_iter_no_change=None,\n",
              "                                                  presort='deprecated',\n",
              "                                                  random_state=None,\n",
              "                                                  subsample=1.0, tol=0.0001,\n",
              "                                                  validation_fraction=0.1,\n",
              "                                                  verbose=0, warm_start=False),\n",
              "             iid='deprecated', n_jobs=None,\n",
              "             param_grid={'loss': ['deviance'], 'max_depth': [5],\n",
              "                         'n_estimators': [100]},\n",
              "             pre_dispatch='2*n_jobs', refit=True, return_train_score=False,\n",
              "             scoring='f1', verbose=0)"
            ]
          },
          "metadata": {},
          "execution_count": 78
        }
      ]
    },
    {
      "cell_type": "code",
      "metadata": {
        "colab": {
          "base_uri": "https://localhost:8080/"
        },
        "id": "vp8NbCAIg96G",
        "outputId": "123427f9-18fc-4cc1-dd19-3666c796a37d"
      },
      "source": [
        "gridgbcPCA.best_params_"
      ],
      "execution_count": null,
      "outputs": [
        {
          "output_type": "execute_result",
          "data": {
            "text/plain": [
              "{'loss': 'deviance', 'max_depth': 5, 'n_estimators': 100}"
            ]
          },
          "metadata": {},
          "execution_count": 79
        }
      ]
    },
    {
      "cell_type": "code",
      "metadata": {
        "id": "7J7reefakka6"
      },
      "source": [
        "# Initialize and fit the model.\n",
        "gb2PCA = ensemble.GradientBoostingClassifier()\n",
        "\n",
        "params = {'loss': 'deviance', 'max_depth': 5, 'n_estimators': 100}\n",
        "\n",
        "\n",
        "\n",
        "gb2PCA.fit(X2_train, y2_train)\n",
        "\n",
        "predict_train = gb2PCA.predict(X2_train)\n",
        "predict_test = gb2PCA.predict(X2_test)\n"
      ],
      "execution_count": null,
      "outputs": []
    },
    {
      "cell_type": "markdown",
      "metadata": {
        "id": "AF45lEaHhRxc"
      },
      "source": [
        "### Cross Validation"
      ]
    },
    {
      "cell_type": "code",
      "metadata": {
        "colab": {
          "base_uri": "https://localhost:8080/"
        },
        "id": "k4F2JIAQhVpx",
        "outputId": "b6876639-6893-491b-da96-0816cde7e47c"
      },
      "source": [
        "# Cross Validation Score\n",
        "\n",
        "gb2PCA.fit(X2_train,y2_train)\n",
        "predict_test_gb2PCA = gb2PCA.predict(X2_test)\n",
        "\n",
        "score = cross_val_score(gb2PCA, X2, y2, cv=5)\n",
        "print(\"Score : \",score)\n",
        "print(\"Variance : \",format(score.std()**2, 'f'))"
      ],
      "execution_count": null,
      "outputs": [
        {
          "output_type": "stream",
          "name": "stdout",
          "text": [
            "Score :  [0.90104948 0.89805097 0.90854573 0.90840841 0.91291291]\n",
            "Variance :  0.000030\n"
          ]
        }
      ]
    },
    {
      "cell_type": "markdown",
      "metadata": {
        "id": "l3yrKm0YhTeS"
      },
      "source": [
        "### Confusion Matrix"
      ]
    },
    {
      "cell_type": "code",
      "metadata": {
        "colab": {
          "base_uri": "https://localhost:8080/",
          "height": 429
        },
        "id": "KiWWaPc0hWO4",
        "outputId": "023956a3-5e57-4adc-be23-d59abe5844ed"
      },
      "source": [
        "#Confusion matrix\n",
        "cm_gb2PCA = confusion_matrix(y2_test,predict_test_gb2PCA)\n",
        "\n",
        "#Visualization of Confusion matrix.\n",
        "f, ax = plt.subplots(figsize =(3,3))\n",
        "sns.heatmap(cm_svccPCA,annot = True,linewidths=0.5,linecolor=\"red\",fmt = \".0f\",ax=ax)\n",
        "plt.xlabel(\"predictions\")\n",
        "plt.ylabel(\"Actuals\")\n",
        "plt.show()\n",
        "\n",
        "f1_score_gb2PCA = f1_score(y2_test,predict_test_gb2PCA)\n",
        "score_gb2PCA = gb2PCA.score(X2_test,y2_test)\n",
        "\n",
        "#train the model on train set\n",
        "model = GradientBoostingClassifier()\n",
        "model.fit(X2_train, y2_train)\n",
        "#print prediction results\n",
        "print()\n",
        "print(\"Classification Report:\")\n",
        "print()  \n",
        "# print prediction results\n",
        "predictions = model.predict(X2_test)\n",
        "print(classification_report(y2_test, predictions))\n"
      ],
      "execution_count": null,
      "outputs": [
        {
          "output_type": "display_data",
          "data": {
            "image/png": "[encoded data removed]",
            "text/plain": [
              "<Figure size 216x216 with 2 Axes>"
            ]
          },
          "metadata": {
            "needs_background": "light"
          }
        },
        {
          "output_type": "stream",
          "name": "stdout",
          "text": [
            "\n",
            "Classification Report:\n",
            "\n",
            "              precision    recall  f1-score   support\n",
            "\n",
            "           0       0.92      0.99      0.95       857\n",
            "           1       0.92      0.47      0.62       143\n",
            "\n",
            "    accuracy                           0.92      1000\n",
            "   macro avg       0.92      0.73      0.79      1000\n",
            "weighted avg       0.92      0.92      0.91      1000\n",
            "\n"
          ]
        }
      ]
    },
    {
      "cell_type": "markdown",
      "metadata": {
        "id": "k-bp7PX0J8tC"
      },
      "source": [
        "Great, we analyzed every model, let's compare them all:"
      ]
    },
    {
      "cell_type": "markdown",
      "metadata": {
        "id": "VXIo1eVGYRwl"
      },
      "source": [
        "Comparing PCA Models"
      ]
    },
    {
      "cell_type": "code",
      "metadata": {
        "colab": {
          "base_uri": "https://localhost:8080/",
          "height": 520
        },
        "id": "I4hXafVfYWq2",
        "outputId": "c8d6d7c4-477d-4d99-b0b3-064a5a682ec0"
      },
      "source": [
        "import numpy as np\n",
        "import matplotlib.pyplot as plt\n",
        "\n",
        "# set width of bar\n",
        "barWidth = 0.3\n",
        "fig = plt.subplots(figsize =(12, 8))\n",
        " \n",
        "# set height of bar\n",
        "pca = [0.85, 0.91, 0.93, 0.92, 0.92]\n",
        "\n",
        " \n",
        "# Set position of bar on X axis\n",
        "br1 = np.arange(len(skb))\n",
        "br2 = [x + barWidth for x in br1]\n",
        "\n",
        "plt.title(\"Accuracy of Models\",fontweight ='bold', fontsize = 15)\n",
        "\n",
        "# Make the plot\n",
        "plt.bar(br2, pca, color ='teal', width = barWidth,\n",
        "        edgecolor ='grey', label ='PCA')\n",
        "\n",
        "# Adding Xticks\n",
        "plt.xlabel('Model', fontweight ='bold', fontsize = 15)\n",
        "plt.ylabel('Accuracy', fontweight ='bold', fontsize = 15)\n",
        "plt.xticks([r + barWidth for r in range(len(skb))],\n",
        "        ['Decision Tree', 'Random Forest', 'KNN', 'SVM', 'Gradient Boost'])\n",
        " \n",
        "plt.legend()\n",
        "plt.show()"
      ],
      "execution_count": null,
      "outputs": [
        {
          "output_type": "display_data",
          "data": {
            "image/png": "[encoded data removed]",
            "text/plain": [
              "<Figure size 864x576 with 1 Axes>"
            ]
          },
          "metadata": {
            "needs_background": "light"
          }
        }
      ]
    },
    {
      "cell_type": "code",
      "metadata": {
        "colab": {
          "base_uri": "https://localhost:8080/"
        },
        "id": "W4QzyTNCYkh2",
        "outputId": "f3f90bb6-5eab-43ba-e81f-a110dd31580d"
      },
      "source": [
        "import numpy as np\n",
        "import matplotlib.pyplot as plt\n",
        "\n",
        "# set width of bar\n",
        "barWidth = 0.3\n",
        "fig = plt.subplots(figsize =(12, 8))\n",
        " \n",
        "# set height of bar\n",
        "pcaf1 = [0.91, 0.95, 0.95, 0.96, 0.95]\n",
        "\n",
        " \n",
        "# Set position of bar on X axis\n",
        "br1 = np.arange(len(skbf1))\n",
        "br2 = [x + barWidth for x in br1]\n",
        "\n",
        "plt.title(\"F1 Score of Models\",fontweight ='bold', fontsize = 15)\n",
        "\n",
        "# Make the plot\n",
        "plt.bar(br2, pcaf1, color ='teal', width = barWidth,\n",
        "        edgecolor ='grey', label ='PCA')\n",
        "\n",
        "# Adding Xticks\n",
        "plt.xlabel('Model', fontweight ='bold', fontsize = 15)\n",
        "plt.ylabel('F1 Score', fontweight ='bold', fontsize = 15)\n",
        "plt.xticks([r + barWidth for r in range(len(skbf1))],\n",
        "        ['Decision Tree', 'Random Forest', 'KNN', 'SVM', 'Gradient Boost'])\n",
        " \n",
        "plt.legend()\n",
        "plt.show()"
      ],
      "execution_count": null,
      "outputs": [
        {
          "output_type": "display_data",
          "data": {
            "image/png": "[encoded data removed]",
            "text/plain": [
              "<Figure size 864x576 with 1 Axes>"
            ]
          },
          "metadata": {
            "needs_background": "light"
          }
        }
      ]
    },
    {
      "cell_type": "markdown",
      "metadata": {
        "id": "IG3_IgjVYrOu"
      },
      "source": [
        "Interestingly enough, F1 score for SVM is the highest."
      ]
    },
    {
      "cell_type": "markdown",
      "metadata": {
        "id": "WxBOxgWFYbgO"
      },
      "source": [
        "Seems that for PCA, KNN seems to be the most accurate, with a score of 0.93.  "
      ]
    },
    {
      "cell_type": "markdown",
      "metadata": {
        "id": "QBVXP_8GLain"
      },
      "source": [
        "### **Feature Importance (Accuracy)**\n",
        "Side by Side Comparison"
      ]
    },
    {
      "cell_type": "code",
      "metadata": {
        "colab": {
          "base_uri": "https://localhost:8080/",
          "height": 520
        },
        "id": "xmg4xLrOLt3q",
        "outputId": "7235c82e-09e6-49e5-c2b3-fbae4218cff5"
      },
      "source": [
        "import numpy as np\n",
        "import matplotlib.pyplot as plt\n",
        "\n",
        "# set width of bar\n",
        "barWidth = 0.3\n",
        "fig = plt.subplots(figsize =(12, 8))\n",
        " \n",
        "# set height of bar\n",
        "skb = [0.87, 0.93, 0.92, 0.93, 0.93]\n",
        "pca = [0.85, 0.91, 0.93, 0.92, 0.92]\n",
        "\n",
        " \n",
        "# Set position of bar on X axis\n",
        "br1 = np.arange(len(skb))\n",
        "br2 = [x + barWidth for x in br1]\n",
        "\n",
        "plt.title(\"Accuracy of Models\",fontweight ='bold', fontsize = 15)\n",
        "\n",
        "# Make the plot\n",
        "plt.bar(br1, skb, color ='maroon', width = barWidth,\n",
        "        edgecolor ='grey', label ='Select K Best')\n",
        "plt.bar(br2, pca, color ='teal', width = barWidth,\n",
        "        edgecolor ='grey', label ='PCA')\n",
        "\n",
        "# Adding Xticks\n",
        "plt.xlabel('Model', fontweight ='bold', fontsize = 15)\n",
        "plt.ylabel('Accuracy', fontweight ='bold', fontsize = 15)\n",
        "plt.xticks([r + barWidth for r in range(len(skb))],\n",
        "        ['Decision Tree', 'Random Forest', 'KNN', 'SVM', 'Gradient Boost'])\n",
        " \n",
        "plt.legend()\n",
        "plt.show()"
      ],
      "execution_count": null,
      "outputs": [
        {
          "output_type": "display_data",
          "data": {
            "image/png": "[encoded data removed]",
            "text/plain": [
              "<Figure size 864x576 with 1 Axes>"
            ]
          },
          "metadata": {
            "needs_background": "light"
          }
        }
      ]
    },
    {
      "cell_type": "markdown",
      "metadata": {
        "id": "R6Kp8NfgY83P"
      },
      "source": [
        "Based on comparing the two, Random Forest and KNN seem to provide the highest results with Decision Tree providing the worst.  On average, Select K Best is producing higher accuracy than PCA.  \n",
        "\n",
        "Based on this, I would select  Random Forest model with the Select K Best feature set."
      ]
    },
    {
      "cell_type": "markdown",
      "metadata": {
        "id": "eNcfgiroVWIR"
      },
      "source": [
        "### Feature Importance (F1 Score)"
      ]
    },
    {
      "cell_type": "code",
      "metadata": {
        "colab": {
          "base_uri": "https://localhost:8080/",
          "height": 520
        },
        "id": "pzwd4EBIQxTS",
        "outputId": "83029586-da15-4992-bbf4-c49ba1faa5f8"
      },
      "source": [
        "import numpy as np\n",
        "import matplotlib.pyplot as plt\n",
        "\n",
        "# set width of bar\n",
        "barWidth = 0.3\n",
        "fig = plt.subplots(figsize =(12, 8))\n",
        " \n",
        "# set height of bar\n",
        "skbf1 = [0.92, 0.96, 0.95, 0.96, 0.96]\n",
        "pcaf1 = [0.91, 0.95, 0.95, 0.96, 0.95]\n",
        "\n",
        " \n",
        "# Set position of bar on X axis\n",
        "br1 = np.arange(len(skbf1))\n",
        "br2 = [x + barWidth for x in br1]\n",
        "\n",
        "plt.title(\"F1 Score of Models\",fontweight ='bold', fontsize = 15)\n",
        "\n",
        "# Make the plot\n",
        "plt.bar(br1, skbf1, color ='maroon', width = barWidth,\n",
        "        edgecolor ='grey', label ='Select K Best')\n",
        "plt.bar(br2, pcaf1, color ='teal', width = barWidth,\n",
        "        edgecolor ='grey', label ='PCA')\n",
        "\n",
        "# Adding Xticks\n",
        "plt.xlabel('Model', fontweight ='bold', fontsize = 15)\n",
        "plt.ylabel('F1 Score', fontweight ='bold', fontsize = 15)\n",
        "plt.xticks([r + barWidth for r in range(len(skbf1))],\n",
        "        ['Decision Tree', 'Random Forest', 'KNN', 'SVM', 'Gradient Boost'])\n",
        " \n",
        "plt.legend()\n",
        "plt.show()"
      ],
      "execution_count": null,
      "outputs": [
        {
          "output_type": "display_data",
          "data": {
            "image/png": "[encoded data removed]",
            "text/plain": [
              "<Figure size 864x576 with 1 Axes>"
            ]
          },
          "metadata": {
            "needs_background": "light"
          }
        }
      ]
    },
    {
      "cell_type": "markdown",
      "metadata": {
        "id": "DKmsgxUXZxhr"
      },
      "source": [
        "Seems that Select K Best provides a better F Score than PCA.  Out of the models, Random Forest provides the highest results.  As such, I would select Random Forest model with the Select K Best Features as my model for predicting Churn.\n",
        "\n",
        "\n",
        "\n",
        "\n"
      ]
    },
    {
      "cell_type": "markdown",
      "metadata": {
        "id": "i8v5PDJC-DZ5"
      },
      "source": [
        "## **5. Results:**\n",
        "\n",
        "Based on a visual inspection, Random Forest Model provides the most accurate representation for predicting churn using the Select K Features.  \n",
        "\n",
        "Now, the lack of newer data, as well as a huge resurgence of Non-Churners vs Churners could have had an impact its accuracy, \n"
      ]
    },
    {
      "cell_type": "markdown",
      "metadata": {
        "id": "RCvXGs_bfYsx"
      },
      "source": [
        "### 6. Conclusion"
      ]
    },
    {
      "cell_type": "markdown",
      "metadata": {
        "id": "8QapkFSEfaZP"
      },
      "source": [
        "To predict whether or not a customer will churn from a company or not, I would use the Random Forest model with the Select K Best Features.  \n",
        "\n",
        "However, the other models were not any less accurate than Random Forest as they were quite close when it came to the results.  \n",
        "\n",
        "It makes sense that Random Forest would yield such high results as their ability to limit overfitting without substantially increasing error due to bias is why they are such powerful models.  The only shortcoming would be that it seems to favor Non-Churners over Churners just do to there being significantly more Non-Churners as a result.  \n",
        "\n",
        "In order to improve the model, more data is needed.  Possibility more recent data with more of an even distribution of Churners and Non-Churners.  Perhaps more insight into the company itself and what service the customers sign up for would make it easier to reason why a customer would decide to churn.\n",
        "\n",
        "To find more features, I would ask the company to provide any more client information they have. Some additional questions to ask about the client include \"what services are you providing,\" or \"what departments tend to have more churners\" so we can see which faction of the companies seems to have significantly higher churners.\n"
      ]
    }
  ]
}